{
 "cells": [
  {
   "cell_type": "code",
   "execution_count": 1,
   "id": "3761add5-48f4-4187-bb8a-ee1d33a8e781",
   "metadata": {},
   "outputs": [
    {
     "name": "stderr",
     "output_type": "stream",
     "text": [
      "Setting default log level to \"WARN\".\n",
      "To adjust logging level use sc.setLogLevel(newLevel). For SparkR, use setLogLevel(newLevel).\n"
     ]
    },
    {
     "name": "stdout",
     "output_type": "stream",
     "text": [
      "2024-07-04T18:16:34,185 WARN [Thread-4] org.apache.hadoop.util.NativeCodeLoader - Unable to load native-hadoop library for your platform... using builtin-java classes where applicable\n"
     ]
    }
   ],
   "source": [
    "from pyspark.sql import SparkSession\n",
    "\n",
    "from pyspark.sql.functions import *\n",
    "from pyspark.sql.types import *\n",
    "\n",
    "spark = SparkSession \\\n",
    "    .builder \\\n",
    "    .appName(\"obligatorio\") \\\n",
    "    .getOrCreate()"
   ]
  },
  {
   "cell_type": "code",
   "execution_count": 2,
   "id": "c49a19d7-00fb-44d5-88ee-e65ce5942cef",
   "metadata": {},
   "outputs": [
    {
     "name": "stdout",
     "output_type": "stream",
     "text": [
      "Requirement already satisfied: seaborn in /home/ort/.local/lib/python3.8/site-packages (0.13.2)\n",
      "Requirement already satisfied: matplotlib in /home/ort/.local/lib/python3.8/site-packages (3.7.5)\n",
      "Requirement already satisfied: numpy!=1.24.0,>=1.20 in /home/ort/.local/lib/python3.8/site-packages (from seaborn) (1.24.4)\n",
      "Requirement already satisfied: pandas>=1.2 in /home/ort/.local/lib/python3.8/site-packages (from seaborn) (2.0.3)\n",
      "Requirement already satisfied: cycler>=0.10 in /home/ort/.local/lib/python3.8/site-packages (from matplotlib) (0.12.1)\n",
      "Requirement already satisfied: pyparsing>=2.3.1 in /home/ort/.local/lib/python3.8/site-packages (from matplotlib) (3.1.2)\n",
      "Requirement already satisfied: pillow>=6.2.0 in /home/ort/.local/lib/python3.8/site-packages (from matplotlib) (10.4.0)\n",
      "Requirement already satisfied: kiwisolver>=1.0.1 in /home/ort/.local/lib/python3.8/site-packages (from matplotlib) (1.4.5)\n",
      "Requirement already satisfied: python-dateutil>=2.7 in /home/ort/.local/lib/python3.8/site-packages (from matplotlib) (2.9.0.post0)\n",
      "Requirement already satisfied: packaging>=20.0 in /home/ort/.local/lib/python3.8/site-packages (from matplotlib) (24.0)\n",
      "Requirement already satisfied: importlib-resources>=3.2.0; python_version < \"3.10\" in /home/ort/.local/lib/python3.8/site-packages (from matplotlib) (6.4.0)\n",
      "Requirement already satisfied: contourpy>=1.0.1 in /home/ort/.local/lib/python3.8/site-packages (from matplotlib) (1.1.1)\n",
      "Requirement already satisfied: fonttools>=4.22.0 in /home/ort/.local/lib/python3.8/site-packages (from matplotlib) (4.53.0)\n",
      "Requirement already satisfied: tzdata>=2022.1 in /home/ort/.local/lib/python3.8/site-packages (from pandas>=1.2->seaborn) (2024.1)\n",
      "Requirement already satisfied: pytz>=2020.1 in /home/ort/.local/lib/python3.8/site-packages (from pandas>=1.2->seaborn) (2024.1)\n",
      "Requirement already satisfied: six>=1.5 in /home/ort/.local/lib/python3.8/site-packages (from python-dateutil>=2.7->matplotlib) (1.16.0)\n",
      "Requirement already satisfied: zipp>=3.1.0; python_version < \"3.10\" in /home/ort/.local/lib/python3.8/site-packages (from importlib-resources>=3.2.0; python_version < \"3.10\"->matplotlib) (3.18.1)\n",
      "Note: you may need to restart the kernel to use updated packages.\n"
     ]
    }
   ],
   "source": [
    "pip install seaborn matplotlib --user"
   ]
  },
  {
   "cell_type": "code",
   "execution_count": 3,
   "id": "684c2148-656d-46bb-bf45-92c1a135ab6b",
   "metadata": {},
   "outputs": [],
   "source": [
    "import seaborn as sns\n",
    "import matplotlib.pyplot as plt"
   ]
  },
  {
   "cell_type": "markdown",
   "id": "a14c25b3-c85e-4e96-a45e-9d0f7d33fa9a",
   "metadata": {},
   "source": [
    "## Importación de datos"
   ]
  },
  {
   "cell_type": "markdown",
   "id": "cd7fcf05-ea31-421c-87d9-70f8b98cb234",
   "metadata": {},
   "source": [
    "#### PLUVIOMETROS"
   ]
  },
  {
   "cell_type": "code",
   "execution_count": 4,
   "id": "06e97b29-3b69-4fa9-abbf-6853ca25ada7",
   "metadata": {},
   "outputs": [],
   "source": [
    "schemaPluviometros = StructType([\\\n",
    "    StructField(\"Fecha\", DateType(), True),\\\n",
    "    StructField(\"Nombre\", StringType(), True),\\\n",
    "    StructField(\"Descripcion\", StringType(), True),\\\n",
    "    StructField(\"Precipitacion\", DoubleType(), True)\n",
    "])"
   ]
  },
  {
   "cell_type": "code",
   "execution_count": 25,
   "id": "0fc832bd-2135-42b3-9527-4e996103e9ee",
   "metadata": {},
   "outputs": [
    {
     "ename": "AnalysisException",
     "evalue": "[PATH_NOT_FOUND] Path does not exist: hdfs://localhost:9000/lnd/obligatorio/pluviometros/000000_0.",
     "output_type": "error",
     "traceback": [
      "\u001b[0;31m---------------------------------------------------------------------------\u001b[0m",
      "\u001b[0;31mAnalysisException\u001b[0m                         Traceback (most recent call last)",
      "Cell \u001b[0;32mIn[25], line 1\u001b[0m\n\u001b[0;32m----> 1\u001b[0m dfPluviometros \u001b[38;5;241m=\u001b[39m \u001b[43mspark\u001b[49m\u001b[38;5;241;43m.\u001b[39;49m\u001b[43mread\u001b[49m\u001b[38;5;241;43m.\u001b[39;49m\u001b[43mcsv\u001b[49m\u001b[43m(\u001b[49m\u001b[38;5;124;43m'\u001b[39;49m\u001b[38;5;124;43m/lnd/obligatorio/pluviometros/000000_0\u001b[39;49m\u001b[38;5;124;43m'\u001b[39;49m\u001b[43m,\u001b[49m\u001b[43m \u001b[49m\u001b[43mheader\u001b[49m\u001b[38;5;241;43m=\u001b[39;49m\u001b[38;5;28;43;01mFalse\u001b[39;49;00m\u001b[43m,\u001b[49m\u001b[43m \u001b[49m\u001b[43msep\u001b[49m\u001b[38;5;241;43m=\u001b[39;49m\u001b[38;5;124;43m'\u001b[39;49m\u001b[38;5;124;43m,\u001b[39;49m\u001b[38;5;124;43m'\u001b[39;49m\u001b[43m,\u001b[49m\u001b[43m \u001b[49m\u001b[43mschema\u001b[49m\u001b[38;5;241;43m=\u001b[39;49m\u001b[43mschemaPluviometros\u001b[49m\u001b[43m)\u001b[49m\n",
      "File \u001b[0;32m~/.local/lib/python3.8/site-packages/pyspark/sql/readwriter.py:727\u001b[0m, in \u001b[0;36mDataFrameReader.csv\u001b[0;34m(self, path, schema, sep, encoding, quote, escape, comment, header, inferSchema, ignoreLeadingWhiteSpace, ignoreTrailingWhiteSpace, nullValue, nanValue, positiveInf, negativeInf, dateFormat, timestampFormat, maxColumns, maxCharsPerColumn, maxMalformedLogPerPartition, mode, columnNameOfCorruptRecord, multiLine, charToEscapeQuoteEscaping, samplingRatio, enforceSchema, emptyValue, locale, lineSep, pathGlobFilter, recursiveFileLookup, modifiedBefore, modifiedAfter, unescapedQuoteHandling)\u001b[0m\n\u001b[1;32m    725\u001b[0m \u001b[38;5;28;01mif\u001b[39;00m \u001b[38;5;28mtype\u001b[39m(path) \u001b[38;5;241m==\u001b[39m \u001b[38;5;28mlist\u001b[39m:\n\u001b[1;32m    726\u001b[0m     \u001b[38;5;28;01massert\u001b[39;00m \u001b[38;5;28mself\u001b[39m\u001b[38;5;241m.\u001b[39m_spark\u001b[38;5;241m.\u001b[39m_sc\u001b[38;5;241m.\u001b[39m_jvm \u001b[38;5;129;01mis\u001b[39;00m \u001b[38;5;129;01mnot\u001b[39;00m \u001b[38;5;28;01mNone\u001b[39;00m\n\u001b[0;32m--> 727\u001b[0m     \u001b[38;5;28;01mreturn\u001b[39;00m \u001b[38;5;28mself\u001b[39m\u001b[38;5;241m.\u001b[39m_df(\u001b[38;5;28;43mself\u001b[39;49m\u001b[38;5;241;43m.\u001b[39;49m\u001b[43m_jreader\u001b[49m\u001b[38;5;241;43m.\u001b[39;49m\u001b[43mcsv\u001b[49m\u001b[43m(\u001b[49m\u001b[38;5;28;43mself\u001b[39;49m\u001b[38;5;241;43m.\u001b[39;49m\u001b[43m_spark\u001b[49m\u001b[38;5;241;43m.\u001b[39;49m\u001b[43m_sc\u001b[49m\u001b[38;5;241;43m.\u001b[39;49m\u001b[43m_jvm\u001b[49m\u001b[38;5;241;43m.\u001b[39;49m\u001b[43mPythonUtils\u001b[49m\u001b[38;5;241;43m.\u001b[39;49m\u001b[43mtoSeq\u001b[49m\u001b[43m(\u001b[49m\u001b[43mpath\u001b[49m\u001b[43m)\u001b[49m\u001b[43m)\u001b[49m)\n\u001b[1;32m    728\u001b[0m \u001b[38;5;28;01melif\u001b[39;00m \u001b[38;5;28misinstance\u001b[39m(path, RDD):\n\u001b[1;32m    730\u001b[0m     \u001b[38;5;28;01mdef\u001b[39;00m \u001b[38;5;21mfunc\u001b[39m(iterator):\n",
      "File \u001b[0;32m~/.local/lib/python3.8/site-packages/py4j/java_gateway.py:1322\u001b[0m, in \u001b[0;36mJavaMember.__call__\u001b[0;34m(self, *args)\u001b[0m\n\u001b[1;32m   1316\u001b[0m command \u001b[38;5;241m=\u001b[39m proto\u001b[38;5;241m.\u001b[39mCALL_COMMAND_NAME \u001b[38;5;241m+\u001b[39m\\\n\u001b[1;32m   1317\u001b[0m     \u001b[38;5;28mself\u001b[39m\u001b[38;5;241m.\u001b[39mcommand_header \u001b[38;5;241m+\u001b[39m\\\n\u001b[1;32m   1318\u001b[0m     args_command \u001b[38;5;241m+\u001b[39m\\\n\u001b[1;32m   1319\u001b[0m     proto\u001b[38;5;241m.\u001b[39mEND_COMMAND_PART\n\u001b[1;32m   1321\u001b[0m answer \u001b[38;5;241m=\u001b[39m \u001b[38;5;28mself\u001b[39m\u001b[38;5;241m.\u001b[39mgateway_client\u001b[38;5;241m.\u001b[39msend_command(command)\n\u001b[0;32m-> 1322\u001b[0m return_value \u001b[38;5;241m=\u001b[39m \u001b[43mget_return_value\u001b[49m\u001b[43m(\u001b[49m\n\u001b[1;32m   1323\u001b[0m \u001b[43m    \u001b[49m\u001b[43manswer\u001b[49m\u001b[43m,\u001b[49m\u001b[43m \u001b[49m\u001b[38;5;28;43mself\u001b[39;49m\u001b[38;5;241;43m.\u001b[39;49m\u001b[43mgateway_client\u001b[49m\u001b[43m,\u001b[49m\u001b[43m \u001b[49m\u001b[38;5;28;43mself\u001b[39;49m\u001b[38;5;241;43m.\u001b[39;49m\u001b[43mtarget_id\u001b[49m\u001b[43m,\u001b[49m\u001b[43m \u001b[49m\u001b[38;5;28;43mself\u001b[39;49m\u001b[38;5;241;43m.\u001b[39;49m\u001b[43mname\u001b[49m\u001b[43m)\u001b[49m\n\u001b[1;32m   1325\u001b[0m \u001b[38;5;28;01mfor\u001b[39;00m temp_arg \u001b[38;5;129;01min\u001b[39;00m temp_args:\n\u001b[1;32m   1326\u001b[0m     \u001b[38;5;28;01mif\u001b[39;00m \u001b[38;5;28mhasattr\u001b[39m(temp_arg, \u001b[38;5;124m\"\u001b[39m\u001b[38;5;124m_detach\u001b[39m\u001b[38;5;124m\"\u001b[39m):\n",
      "File \u001b[0;32m~/.local/lib/python3.8/site-packages/pyspark/errors/exceptions/captured.py:175\u001b[0m, in \u001b[0;36mcapture_sql_exception.<locals>.deco\u001b[0;34m(*a, **kw)\u001b[0m\n\u001b[1;32m    171\u001b[0m converted \u001b[38;5;241m=\u001b[39m convert_exception(e\u001b[38;5;241m.\u001b[39mjava_exception)\n\u001b[1;32m    172\u001b[0m \u001b[38;5;28;01mif\u001b[39;00m \u001b[38;5;129;01mnot\u001b[39;00m \u001b[38;5;28misinstance\u001b[39m(converted, UnknownException):\n\u001b[1;32m    173\u001b[0m     \u001b[38;5;66;03m# Hide where the exception came from that shows a non-Pythonic\u001b[39;00m\n\u001b[1;32m    174\u001b[0m     \u001b[38;5;66;03m# JVM exception message.\u001b[39;00m\n\u001b[0;32m--> 175\u001b[0m     \u001b[38;5;28;01mraise\u001b[39;00m converted \u001b[38;5;28;01mfrom\u001b[39;00m \u001b[38;5;28;01mNone\u001b[39;00m\n\u001b[1;32m    176\u001b[0m \u001b[38;5;28;01melse\u001b[39;00m:\n\u001b[1;32m    177\u001b[0m     \u001b[38;5;28;01mraise\u001b[39;00m\n",
      "\u001b[0;31mAnalysisException\u001b[0m: [PATH_NOT_FOUND] Path does not exist: hdfs://localhost:9000/lnd/obligatorio/pluviometros/000000_0."
     ]
    }
   ],
   "source": [
    "dfPluviometros = spark.read.csv('/lnd/obligatorio/pluviometros/000000_0', header=False, sep=',', schema=schemaPluviometros)"
   ]
  },
  {
   "cell_type": "code",
   "execution_count": 6,
   "id": "c9258dad-6ea9-406b-8a6b-0025dee6f08f",
   "metadata": {},
   "outputs": [
    {
     "name": "stdout",
     "output_type": "stream",
     "text": [
      "root\n",
      " |-- Fecha: date (nullable = true)\n",
      " |-- Nombre: string (nullable = true)\n",
      " |-- Descripcion: string (nullable = true)\n",
      " |-- Precipitacion: double (nullable = true)\n",
      "\n"
     ]
    }
   ],
   "source": [
    "dfPluviometros.printSchema()"
   ]
  },
  {
   "cell_type": "code",
   "execution_count": null,
   "id": "53a9dd81-7831-40ac-8c40-32636f65fb6f",
   "metadata": {},
   "outputs": [],
   "source": [
    "dfPluviometros.show()"
   ]
  },
  {
   "cell_type": "markdown",
   "id": "1bc8af77-cd84-461b-90f9-b660293c421e",
   "metadata": {},
   "source": [
    "#### VELOCIDAD"
   ]
  },
  {
   "cell_type": "code",
   "execution_count": 8,
   "id": "4ebfd566-8451-4bd4-b422-8fd2374aecc6",
   "metadata": {},
   "outputs": [
    {
     "name": "stderr",
     "output_type": "stream",
     "text": [
      "                                                                                \r"
     ]
    }
   ],
   "source": [
    "dfVelocidad = spark.read.csv('/lnd/obligatorio/velocidad/promedioVelocidad-07-22.csv', header=True, sep=',', inferSchema=True)"
   ]
  },
  {
   "cell_type": "code",
   "execution_count": 9,
   "id": "65c18ccf-5c14-4343-9023-ac6691177358",
   "metadata": {},
   "outputs": [
    {
     "name": "stdout",
     "output_type": "stream",
     "text": [
      "root\n",
      " |-- cod_detector: integer (nullable = true)\n",
      " |-- id_carril: integer (nullable = true)\n",
      " |-- fecha: date (nullable = true)\n",
      " |-- hora: timestamp (nullable = true)\n",
      " |-- dsc_avenida: string (nullable = true)\n",
      " |-- dsc_int_anterior: string (nullable = true)\n",
      " |-- dsc_int_siguiente: string (nullable = true)\n",
      " |-- latitud: double (nullable = true)\n",
      " |-- longitud: double (nullable = true)\n",
      " |-- velocidad: double (nullable = true)\n",
      "\n"
     ]
    }
   ],
   "source": [
    "dfVelocidad.printSchema()"
   ]
  },
  {
   "cell_type": "code",
   "execution_count": 10,
   "id": "44bb7d9e-ccc9-42b2-bed6-407d213ad61d",
   "metadata": {
    "scrolled": true
   },
   "outputs": [
    {
     "name": "stdout",
     "output_type": "stream",
     "text": [
      "+------------+---------+----------+-------------------+-------------------+-----------------+-------------------+----------+----------+---------+\n",
      "|cod_detector|id_carril|     fecha|               hora|        dsc_avenida| dsc_int_anterior|  dsc_int_siguiente|   latitud|  longitud|velocidad|\n",
      "+------------+---------+----------+-------------------+-------------------+-----------------+-------------------+----------+----------+---------+\n",
      "|         206|        2|2022-07-01|2024-07-04 23:55:59|               Soca|   Brito del Pino|             Rivera|-34.902187| -56.15646|      0.0|\n",
      "|         205|        1|2022-07-01|2024-07-04 23:55:59|               Soca|   Brito del Pino|             Rivera|-34.902187| -56.15646|      0.0|\n",
      "|         111|        1|2022-07-01|2024-07-04 23:55:00|            Amezaga|    Arenal Grande|        Gral Flores| -34.88622| -56.18372|     23.0|\n",
      "|         114|       11|2022-07-01|2024-07-04 23:55:00|     L A de Herrera|            Marne|Entrada Nuevocentro|-34.868283|-56.169768|      0.0|\n",
      "|         206|        1|2022-07-01|2024-07-04 23:55:00|Bv Batlle y Ordonez|           Carafi|             Garzon|-34.827224|  -56.2206|     19.0|\n",
      "|         206|        1|2022-07-01|2024-07-04 23:55:00|    21 de Setiembre|        Bv Espana|         Bv Artigas|-34.912363|-56.164099|     37.0|\n",
      "|         107|        1|2022-07-01|2024-07-04 23:55:00|            Colonia|   German Barbato|              Ejido|-34.904613|-56.186306|     31.0|\n",
      "|         206|        1|2022-07-01|2024-07-04 23:55:00|           Paraguay|      18 de Julio|            Colonia|-34.905501|-56.192532|     37.0|\n",
      "|         107|        1|2022-07-01|2024-07-04 23:55:00|            Mendoza|          Saravia|        Gral Flores|-34.837028|-56.149465|     41.0|\n",
      "|         107|        1|2022-07-01|2024-07-04 23:55:00|       8 de Octubre|   Gral Villagran|        Raissignier| -34.86988| -56.13489|     48.0|\n",
      "|         206|        1|2022-07-01|2024-07-04 23:55:00|        C M Ramirez|           Llupes|   M Herrera y Obes|-34.857615|-56.225499|     41.0|\n",
      "|         107|        1|2022-07-01|2024-07-04 23:55:00|         Bv Artigas|   L A de Herrera|           Gallinal| -34.87196| -56.16749|     71.0|\n",
      "|         410|       11|2022-07-01|2024-07-04 23:55:00|         Bv Artigas|         Maturana|         Uruguayana| -34.87304| -56.20517|     31.0|\n",
      "|         107|        1|2022-07-01|2024-07-04 23:55:00|        Zufriategui|        Coraceros|          Agraciada|-34.862684|-56.212248|     32.0|\n",
      "|         306|        1|2022-07-01|2024-07-04 23:55:00|               Rodo|          Requena|         Bv Artigas|-34.902829|-56.164944|     21.0|\n",
      "|         107|        1|2022-07-01|2024-07-04 23:55:00|              Ponce|           Rivera|         Bv Artigas|-34.904713|-56.162828|     46.0|\n",
      "|         107|        1|2022-07-01|2024-07-04 23:55:00|     L A de Herrera|  Placido Ellauri|             Rivera|-34.901934|-56.138191|     27.0|\n",
      "|         206|        1|2022-07-01|2024-07-04 23:55:00|             Rivera|            Ponce|         Bv Artigas| -34.90262| -56.16305|      0.0|\n",
      "|         107|        1|2022-07-01|2024-07-04 23:55:00|      Benito Blanco|  21 de Setiembre|          Bv Espana|-34.915828|  -56.1499|     32.0|\n",
      "|         107|        1|2022-07-01|2024-07-04 23:55:00|       Daniel Munoz|Martin C Martinez|       Acevedo Diaz|-34.895946|-56.168014|     35.0|\n",
      "+------------+---------+----------+-------------------+-------------------+-----------------+-------------------+----------+----------+---------+\n",
      "only showing top 20 rows\n",
      "\n"
     ]
    }
   ],
   "source": [
    "dfVelocidad.show()"
   ]
  },
  {
   "cell_type": "markdown",
   "id": "594ce4b3-2ef5-4599-9984-4d95208c75dd",
   "metadata": {},
   "source": [
    "#### VOLUMEN"
   ]
  },
  {
   "cell_type": "code",
   "execution_count": 11,
   "id": "935568f3-489f-4884-a51a-99c59cad8ca1",
   "metadata": {},
   "outputs": [
    {
     "name": "stderr",
     "output_type": "stream",
     "text": [
      "                                                                                \r"
     ]
    }
   ],
   "source": [
    "dfVolumen = spark.read.csv('/lnd/obligatorio/volumen/promedioVolumen-07-22.csv', header=True, sep=',', inferSchema=True)"
   ]
  },
  {
   "cell_type": "code",
   "execution_count": 12,
   "id": "066f2cd8-251b-4330-bffc-2470663b0a7e",
   "metadata": {},
   "outputs": [
    {
     "name": "stdout",
     "output_type": "stream",
     "text": [
      "root\n",
      " |-- cod_detector: integer (nullable = true)\n",
      " |-- id_carril: integer (nullable = true)\n",
      " |-- fecha: date (nullable = true)\n",
      " |-- hora: timestamp (nullable = true)\n",
      " |-- dsc_avenida: string (nullable = true)\n",
      " |-- dsc_int_anterior: string (nullable = true)\n",
      " |-- dsc_int_siguiente: string (nullable = true)\n",
      " |-- latitud: double (nullable = true)\n",
      " |-- longitud: double (nullable = true)\n",
      " |-- volume: integer (nullable = true)\n",
      " |-- volumen_hora: double (nullable = true)\n",
      "\n"
     ]
    }
   ],
   "source": [
    "dfVolumen.printSchema()"
   ]
  },
  {
   "cell_type": "code",
   "execution_count": 13,
   "id": "e145a028-73af-40f2-835d-ac3958c94760",
   "metadata": {
    "scrolled": true
   },
   "outputs": [
    {
     "name": "stdout",
     "output_type": "stream",
     "text": [
      "+------------+---------+----------+-------------------+-------------------+-----------------+-------------------+----------+----------+------+------------+\n",
      "|cod_detector|id_carril|     fecha|               hora|        dsc_avenida| dsc_int_anterior|  dsc_int_siguiente|   latitud|  longitud|volume|volumen_hora|\n",
      "+------------+---------+----------+-------------------+-------------------+-----------------+-------------------+----------+----------+------+------------+\n",
      "|         206|        2|2022-07-01|2024-07-04 23:55:59|               Soca|   Brito del Pino|             Rivera|-34.902187| -56.15646|     0|         0.0|\n",
      "|         205|        1|2022-07-01|2024-07-04 23:55:59|               Soca|   Brito del Pino|             Rivera|-34.902187| -56.15646|     0|         0.0|\n",
      "|         111|        1|2022-07-01|2024-07-04 23:55:00|            Amezaga|    Arenal Grande|        Gral Flores| -34.88622| -56.18372|     2|        24.0|\n",
      "|         114|       11|2022-07-01|2024-07-04 23:55:00|     L A de Herrera|            Marne|Entrada Nuevocentro|-34.868283|-56.169768|     0|         0.0|\n",
      "|         206|        1|2022-07-01|2024-07-04 23:55:00|Bv Batlle y Ordonez|           Carafi|             Garzon|-34.827224|  -56.2206|     9|       108.0|\n",
      "|         206|        1|2022-07-01|2024-07-04 23:55:00|    21 de Setiembre|        Bv Espana|         Bv Artigas|-34.912363|-56.164099|    11|       132.0|\n",
      "|         107|        1|2022-07-01|2024-07-04 23:55:00|            Colonia|   German Barbato|              Ejido|-34.904613|-56.186306|    13|       156.0|\n",
      "|         206|        1|2022-07-01|2024-07-04 23:55:00|           Paraguay|      18 de Julio|            Colonia|-34.905501|-56.192532|     4|        48.0|\n",
      "|         107|        1|2022-07-01|2024-07-04 23:55:00|            Mendoza|          Saravia|        Gral Flores|-34.837028|-56.149465|     8|        96.0|\n",
      "|         107|        1|2022-07-01|2024-07-04 23:55:00|       8 de Octubre|   Gral Villagran|        Raissignier| -34.86988| -56.13489|     5|        60.0|\n",
      "|         206|        1|2022-07-01|2024-07-04 23:55:00|        C M Ramirez|           Llupes|   M Herrera y Obes|-34.857615|-56.225499|    10|       120.0|\n",
      "|         107|        1|2022-07-01|2024-07-04 23:55:00|         Bv Artigas|   L A de Herrera|           Gallinal| -34.87196| -56.16749|     2|        24.0|\n",
      "|         410|       11|2022-07-01|2024-07-04 23:55:00|         Bv Artigas|         Maturana|         Uruguayana| -34.87304| -56.20517|     2|        24.0|\n",
      "|         107|        1|2022-07-01|2024-07-04 23:55:00|        Zufriategui|        Coraceros|          Agraciada|-34.862684|-56.212248|     4|        48.0|\n",
      "|         306|        1|2022-07-01|2024-07-04 23:55:00|               Rodo|          Requena|         Bv Artigas|-34.902829|-56.164944|     2|        24.0|\n",
      "|         107|        1|2022-07-01|2024-07-04 23:55:00|              Ponce|           Rivera|         Bv Artigas|-34.904713|-56.162828|     7|        84.0|\n",
      "|         107|        1|2022-07-01|2024-07-04 23:55:00|     L A de Herrera|  Placido Ellauri|             Rivera|-34.901934|-56.138191|     2|        24.0|\n",
      "|         206|        1|2022-07-01|2024-07-04 23:55:00|             Rivera|            Ponce|         Bv Artigas| -34.90262| -56.16305|     0|         0.0|\n",
      "|         107|        1|2022-07-01|2024-07-04 23:55:00|      Benito Blanco|  21 de Setiembre|          Bv Espana|-34.915828|  -56.1499|     7|        84.0|\n",
      "|         107|        1|2022-07-01|2024-07-04 23:55:00|       Daniel Munoz|Martin C Martinez|       Acevedo Diaz|-34.895946|-56.168014|    14|       168.0|\n",
      "+------------+---------+----------+-------------------+-------------------+-----------------+-------------------+----------+----------+------+------------+\n",
      "only showing top 20 rows\n",
      "\n"
     ]
    }
   ],
   "source": [
    "dfVolumen.show()"
   ]
  },
  {
   "cell_type": "markdown",
   "id": "cfbf7a7f-9550-406a-8422-3bd0903e4d78",
   "metadata": {},
   "source": [
    "#### SINIESTROS"
   ]
  },
  {
   "cell_type": "code",
   "execution_count": 14,
   "id": "075bf34e-1ac6-4e0d-990b-47df250545ca",
   "metadata": {},
   "outputs": [],
   "source": [
    "schemaSiniestros = StructType([\\\n",
    "    StructField(\"Fecha\", DateType(), True),\\\n",
    "    StructField(\"Edad\", StringType(), True),\\\n",
    "    StructField(\"Rol\", StringType(), True),\\\n",
    "    StructField(\"Calle\", StringType(), True),\\\n",
    "    StructField(\"Zona\", StringType(), True),\\\n",
    "    StructField(\"Tipo_de_resultado\", StringType(), True),\\\n",
    "    StructField(\"Tipo_de_siniestro\", StringType(), True),\\\n",
    "    StructField(\"Usa_cinturon\", StringType(), True),\\\n",
    "    StructField(\"Usa_casco\", StringType(), True),\\\n",
    "    StructField(\"Dia_de_la_semana\", StringType(), True),\\\n",
    "    StructField(\"Sexo\", StringType(), True),\\\n",
    "    StructField(\"Hora\", IntegerType(), True),\\\n",
    "    StructField(\"Departamento\", StringType(), True),\\\n",
    "    StructField(\"Localidad\", StringType(), True),\\\n",
    "    StructField(\"Novedad\", IntegerType(), True),\\\n",
    "    StructField(\"Tipo_de_Vehiculo\", StringType(), True),\\\n",
    "    StructField(\"Fixed\", StringType(), True),\\\n",
    "    StructField(\"X\", IntegerType(), True),\\\n",
    "    StructField(\"Y\", IntegerType(), True)\n",
    "])"
   ]
  },
  {
   "cell_type": "code",
   "execution_count": 15,
   "id": "418dda13-932f-47e9-be5f-b28ca16630c4",
   "metadata": {},
   "outputs": [],
   "source": [
    "dfSiniestros = spark.read.csv('/lnd/obligatorio/siniestros/000000_0', header=False, sep=',', schema=schemaSiniestros)"
   ]
  },
  {
   "cell_type": "code",
   "execution_count": 16,
   "id": "9b61bdc5-115e-4245-97fa-4de9c213d6d8",
   "metadata": {},
   "outputs": [
    {
     "name": "stdout",
     "output_type": "stream",
     "text": [
      "root\n",
      " |-- Fecha: date (nullable = true)\n",
      " |-- Edad: string (nullable = true)\n",
      " |-- Rol: string (nullable = true)\n",
      " |-- Calle: string (nullable = true)\n",
      " |-- Zona: string (nullable = true)\n",
      " |-- Tipo_de_resultado: string (nullable = true)\n",
      " |-- Tipo_de_siniestro: string (nullable = true)\n",
      " |-- Usa_cinturon: string (nullable = true)\n",
      " |-- Usa_casco: string (nullable = true)\n",
      " |-- Dia_de_la_semana: string (nullable = true)\n",
      " |-- Sexo: string (nullable = true)\n",
      " |-- Hora: integer (nullable = true)\n",
      " |-- Departamento: string (nullable = true)\n",
      " |-- Localidad: string (nullable = true)\n",
      " |-- Novedad: integer (nullable = true)\n",
      " |-- Tipo_de_Vehiculo: string (nullable = true)\n",
      " |-- Fixed: string (nullable = true)\n",
      " |-- X: integer (nullable = true)\n",
      " |-- Y: integer (nullable = true)\n",
      "\n"
     ]
    }
   ],
   "source": [
    "dfSiniestros.printSchema()"
   ]
  },
  {
   "cell_type": "code",
   "execution_count": 17,
   "id": "a42dd85e-1288-470f-9b18-cee50454ca89",
   "metadata": {
    "scrolled": true
   },
   "outputs": [
    {
     "name": "stdout",
     "output_type": "stream",
     "text": [
      "+----------+----+----------+--------------------+-----------+-----------------+--------------------+------------+-------------+----------------+----------+----+------------+-----------+--------+----------------+----------+------+-------+\n",
      "|     Fecha|Edad|       Rol|               Calle|       Zona|Tipo_de_resultado|   Tipo_de_siniestro|Usa_cinturon|    Usa_casco|Dia_de_la_semana|      Sexo|Hora|Departamento|  Localidad| Novedad|Tipo_de_Vehiculo|     Fixed|     X|      Y|\n",
      "+----------+----+----------+--------------------+-----------+-----------------+--------------------+------------+-------------+----------------+----------+----+------------+-----------+--------+----------------+----------+------+-------+\n",
      "|2022-07-01|  35| CONDUCTOR|     AVENIDA BURGUES| URBANA    |      HERIDO LEVE| COLISION ENTRE V...|   SIN DATOS| NO USA CASCO|       MIERCOLES| MASCULINO|   7|  MONTEVIDEO| MONTEVIDEO|15104841|       BICICLETA| SIN DATOS|574350|6141445|\n",
      "|2022-07-01|  61| CONDUCTOR| INGENIERO JUAN A...| URBANA    |      HERIDO LEVE| COLISION ENTRE V...|   SIN DATOS|    USA CASCO|       MIERCOLES| MASCULINO|   8|  MONTEVIDEO| MONTEVIDEO|15105060|            MOTO| SIN DATOS|572535|6141315|\n",
      "|2022-07-01|  36| CONDUCTOR| JUAN JACOBO ROUS...| URBANA    |      HERIDO LEVE| COLISION ENTRE V...|   SIN DATOS| NO USA CASCO|       MIERCOLES|  FEMENINO|   9|  MONTEVIDEO| MONTEVIDEO|15105310|            MOTO| SIN DATOS|579025|6141405|\n",
      "|2022-07-01|  45| CONDUCTOR| AVENIDA DOCTOR S...| SUBURBANA |     HERIDO GRAVE| COLISION ENTRE V...|   SIN DATOS|    SIN DATOS|       MIERCOLES|  FEMENINO|  10|  MONTEVIDEO| MONTEVIDEO|15105360|       CAMIONETA| SIN DATOS|568330|6141810|\n",
      "|2022-07-01|  50|  PASAJERO| AVENIDA DOCTOR S...| SUBURBANA |      HERIDO LEVE| COLISION ENTRE V...|   SIN DATOS|    SIN DATOS|       MIERCOLES|  FEMENINO|  10|  MONTEVIDEO| MONTEVIDEO|15105360|            AUTO| SIN DATOS|568330|6141810|\n",
      "|2022-07-01|  41| CONDUCTOR| AVENIDA DOCTOR S...| SUBURBANA |      HERIDO LEVE| COLISION ENTRE V...|   SIN DATOS|    SIN DATOS|       MIERCOLES| MASCULINO|  10|  MONTEVIDEO| MONTEVIDEO|15105360|            AUTO| SIN DATOS|568330|6141810|\n",
      "|2022-07-01|  66| CONDUCTOR| CAMINO LUIS EDUA...| SUBURBANA |     HERIDO GRAVE| COLISION ENTRE V...|   SIN DATOS|    SIN DATOS|       MIERCOLES| MASCULINO|  10|  MONTEVIDEO|  SIN DATOS|15105615|          CAMION| SIN DATOS|564285|6148425|\n",
      "|2022-07-01|   6|    PEATON|    CAMINO MALDONADO| URBANA    |      HERIDO LEVE| COLISION ENTRE V...|   SIN DATOS|    SIN DATOS|       MIERCOLES| MASCULINO|  10|  MONTEVIDEO| MONTEVIDEO|15105704|       SIN DATOS| SIN DATOS|579950|6143785|\n",
      "|2022-07-01|  38| CONDUCTOR| AVENIDA DOCTOR S...| URBANA    |      HERIDO LEVE| COLISION ENTRE V...|   SIN DATOS|    USA CASCO|       MIERCOLES|  FEMENINO|   9|  MONTEVIDEO| MONTEVIDEO|15105940|            MOTO| SIN DATOS|568270|6141525|\n",
      "|2022-07-01|  20|  PASAJERO|    SALDANHA DA GAMA| URBANA    |      HERIDO LEVE| COLISION ENTRE V...|   SIN DATOS|    SIN DATOS|       MIERCOLES| MASCULINO|  11|  MONTEVIDEO| MONTEVIDEO|15106217|       CAMIONETA| SIN DATOS|579660|6137410|\n",
      "|2022-07-01|  36| CONDUCTOR|    SALDANHA DA GAMA| URBANA    |      HERIDO LEVE| COLISION ENTRE V...|   SIN DATOS|    SIN DATOS|       MIERCOLES| MASCULINO|  11|  MONTEVIDEO| MONTEVIDEO|15106217|       CAMIONETA| SIN DATOS|579660|6137410|\n",
      "|2022-07-01|  31| CONDUCTOR|      AVENIDA ITALIA| URBANA    |      HERIDO LEVE| COLISION ENTRE V...|   SIN DATOS|    USA CASCO|       MIERCOLES| MASCULINO|  11|  MONTEVIDEO| MONTEVIDEO|15106286|            MOTO| SIN DATOS|577600|6138825|\n",
      "|2022-07-01|  28| CONDUCTOR|       CAMINO EDISON| SUBURBANA |      HERIDO LEVE| COLISION ENTRE V...|   SIN DATOS|    USA CASCO|       MIERCOLES| MASCULINO|  11|  MONTEVIDEO| MONTEVIDEO|15106293|            MOTO| SIN DATOS|571425|6146605|\n",
      "|2022-07-01|  49| CONDUCTOR|         VIA_PUBLICA| URBANA    |      HERIDO LEVE| COLISION ENTRE V...|   SIN DATOS|    SIN DATOS|       MIERCOLES| MASCULINO|  14|  MONTEVIDEO| MONTEVIDEO|15106986|            AUTO| SIN DATOS|574490|6139455|\n",
      "|2022-07-01|  14|    PEATON|        ACCESOS KM 5| URBANA    |      HERIDO LEVE| ATROPELLO DE PEATON|   SIN DATOS|    SIN DATOS|       MIERCOLES| MASCULINO|  13|  MONTEVIDEO| MONTEVIDEO|15107317|       SIN DATOS| SIN DATOS|569030|6141335|\n",
      "|2022-07-01|  33| CONDUCTOR| AVENIDA GENERAL ...| URBANA    |      HERIDO LEVE|              CAI�DA|   SIN DATOS| NO USA CASCO|       MIERCOLES|  FEMENINO|  15|  MONTEVIDEO| MONTEVIDEO|15107569|       BICICLETA| SIN DATOS|578100|6144970|\n",
      "|2022-07-01|  51|    PEATON| AVENIDA GONZALO ...| URBANA    |      HERIDO LEVE| ATROPELLO DE PEATON|   SIN DATOS|    SIN DATOS|       MIERCOLES|  FEMENINO|  15|  MONTEVIDEO| MONTEVIDEO|15107718|       SIN DATOS| SIN DATOS|574890|6136370|\n",
      "|2022-07-01|  24| CONDUCTOR| CAMINO CORONEL RAIZ| URBANA    |      HERIDO LEVE|              CAI�DA|   SIN DATOS|    USA CASCO|       MIERCOLES|  FEMENINO|  16|  MONTEVIDEO| MONTEVIDEO|15108370|            MOTO| SIN DATOS|573045|6144550|\n",
      "|2022-07-01|  25| CONDUCTOR| AVENIDA GENERAL ...| URBANA    |      HERIDO LEVE| COLISION ENTRE V...|   SIN DATOS|    USA CASCO|       MIERCOLES| MASCULINO|  17|  MONTEVIDEO| MONTEVIDEO|15108394|            MOTO| SIN DATOS|575665|6137485|\n",
      "|2022-07-01|  57| CONDUCTOR| AVENIDA JOSE PED...| URBANA    |      HERIDO LEVE| COLISION ENTRE V...|   SIN DATOS|    USA CASCO|       MIERCOLES|  FEMENINO|  14|  MONTEVIDEO| MONTEVIDEO|15108488|            MOTO| SIN DATOS|577285|6141615|\n",
      "+----------+----+----------+--------------------+-----------+-----------------+--------------------+------------+-------------+----------------+----------+----+------------+-----------+--------+----------------+----------+------+-------+\n",
      "only showing top 20 rows\n",
      "\n"
     ]
    }
   ],
   "source": [
    "dfSiniestros.show()"
   ]
  },
  {
   "cell_type": "markdown",
   "id": "fb54845c-217d-4653-b58c-0858df90a424",
   "metadata": {},
   "source": [
    "## Verificación de datos nulos"
   ]
  },
  {
   "cell_type": "code",
   "execution_count": 21,
   "id": "e1792587-1941-4ee8-a921-ae63c4bd0266",
   "metadata": {},
   "outputs": [
    {
     "ename": "AnalysisException",
     "evalue": "[DATATYPE_MISMATCH.UNEXPECTED_INPUT_TYPE] Cannot resolve \"isnan(Fecha)\" due to data type mismatch: Parameter 1 requires the (\"DOUBLE\" or \"FLOAT\") type, however \"Fecha\" has the type \"DATE\".;\n'Aggregate [count(CASE WHEN (isnan(Fecha#215) OR isnull(Fecha#215)) THEN Fecha END) AS Fecha#351, count(CASE WHEN (isnan(cast(Edad#216 as double)) OR isnull(Edad#216)) THEN Edad END) AS Edad#353L, count(CASE WHEN (isnan(cast(Rol#217 as double)) OR isnull(Rol#217)) THEN Rol END) AS Rol#355L, count(CASE WHEN (isnan(cast(Calle#218 as double)) OR isnull(Calle#218)) THEN Calle END) AS Calle#357L, count(CASE WHEN (isnan(cast(Zona#219 as double)) OR isnull(Zona#219)) THEN Zona END) AS Zona#359L, count(CASE WHEN (isnan(cast(Tipo_de_resultado#220 as double)) OR isnull(Tipo_de_resultado#220)) THEN Tipo_de_resultado END) AS Tipo_de_resultado#361L, count(CASE WHEN (isnan(cast(Tipo_de_siniestro#221 as double)) OR isnull(Tipo_de_siniestro#221)) THEN Tipo_de_siniestro END) AS Tipo_de_siniestro#363L, count(CASE WHEN (isnan(cast(Usa_cinturon#222 as double)) OR isnull(Usa_cinturon#222)) THEN Usa_cinturon END) AS Usa_cinturon#365L, count(CASE WHEN (isnan(cast(Usa_casco#223 as double)) OR isnull(Usa_casco#223)) THEN Usa_casco END) AS Usa_casco#367L, count(CASE WHEN (isnan(cast(Dia_de_la_semana#224 as double)) OR isnull(Dia_de_la_semana#224)) THEN Dia_de_la_semana END) AS Dia_de_la_semana#369L, count(CASE WHEN (isnan(cast(Sexo#225 as double)) OR isnull(Sexo#225)) THEN Sexo END) AS Sexo#371L, count(CASE WHEN (isnan(cast(Hora#226 as double)) OR isnull(Hora#226)) THEN Hora END) AS Hora#373L, count(CASE WHEN (isnan(cast(Departamento#227 as double)) OR isnull(Departamento#227)) THEN Departamento END) AS Departamento#375L, count(CASE WHEN (isnan(cast(Localidad#228 as double)) OR isnull(Localidad#228)) THEN Localidad END) AS Localidad#377L, count(CASE WHEN (isnan(cast(Novedad#229 as double)) OR isnull(Novedad#229)) THEN Novedad END) AS Novedad#379L, count(CASE WHEN (isnan(cast(Tipo_de_Vehiculo#230 as double)) OR isnull(Tipo_de_Vehiculo#230)) THEN Tipo_de_Vehiculo END) AS Tipo_de_Vehiculo#381L, count(CASE WHEN (isnan(cast(Fixed#231 as double)) OR isnull(Fixed#231)) THEN Fixed END) AS Fixed#383L, count(CASE WHEN (isnan(cast(X#232 as double)) OR isnull(X#232)) THEN X END) AS X#385L, count(CASE WHEN (isnan(cast(Y#233 as double)) OR isnull(Y#233)) THEN Y END) AS Y#387L]\n+- Relation [Fecha#215,Edad#216,Rol#217,Calle#218,Zona#219,Tipo_de_resultado#220,Tipo_de_siniestro#221,Usa_cinturon#222,Usa_casco#223,Dia_de_la_semana#224,Sexo#225,Hora#226,Departamento#227,Localidad#228,Novedad#229,Tipo_de_Vehiculo#230,Fixed#231,X#232,Y#233] csv\n",
     "output_type": "error",
     "traceback": [
      "\u001b[0;31m---------------------------------------------------------------------------\u001b[0m",
      "\u001b[0;31mAnalysisException\u001b[0m                         Traceback (most recent call last)",
      "Cell \u001b[0;32mIn[21], line 1\u001b[0m\n\u001b[0;32m----> 1\u001b[0m \u001b[43mdfSiniestros\u001b[49m\u001b[38;5;241;43m.\u001b[39;49m\u001b[43mselect\u001b[49m\u001b[43m(\u001b[49m\u001b[43m[\u001b[49m\u001b[43mcount\u001b[49m\u001b[43m(\u001b[49m\u001b[43mwhen\u001b[49m\u001b[43m(\u001b[49m\u001b[43misnan\u001b[49m\u001b[43m(\u001b[49m\u001b[43mc\u001b[49m\u001b[43m)\u001b[49m\u001b[43m \u001b[49m\u001b[38;5;241;43m|\u001b[39;49m\u001b[43m \u001b[49m\u001b[43mcol\u001b[49m\u001b[43m(\u001b[49m\u001b[43mc\u001b[49m\u001b[43m)\u001b[49m\u001b[38;5;241;43m.\u001b[39;49m\u001b[43misNull\u001b[49m\u001b[43m(\u001b[49m\u001b[43m)\u001b[49m\u001b[43m,\u001b[49m\u001b[43m \u001b[49m\u001b[43mc\u001b[49m\u001b[43m)\u001b[49m\u001b[43m)\u001b[49m\u001b[38;5;241;43m.\u001b[39;49m\u001b[43malias\u001b[49m\u001b[43m(\u001b[49m\u001b[43mc\u001b[49m\u001b[43m)\u001b[49m\u001b[43m \u001b[49m\u001b[38;5;28;43;01mfor\u001b[39;49;00m\u001b[43m \u001b[49m\u001b[43mc\u001b[49m\u001b[43m \u001b[49m\u001b[38;5;129;43;01min\u001b[39;49;00m\u001b[43m \u001b[49m\u001b[43mdfSiniestros\u001b[49m\u001b[38;5;241;43m.\u001b[39;49m\u001b[43mcolumns\u001b[49m\u001b[43m]\u001b[49m\u001b[43m)\u001b[49m\u001b[38;5;241m.\u001b[39mshow()\n",
      "File \u001b[0;32m~/.local/lib/python3.8/site-packages/pyspark/sql/dataframe.py:3036\u001b[0m, in \u001b[0;36mDataFrame.select\u001b[0;34m(self, *cols)\u001b[0m\n\u001b[1;32m   2991\u001b[0m \u001b[38;5;28;01mdef\u001b[39;00m \u001b[38;5;21mselect\u001b[39m(\u001b[38;5;28mself\u001b[39m, \u001b[38;5;241m*\u001b[39mcols: \u001b[38;5;124m\"\u001b[39m\u001b[38;5;124mColumnOrName\u001b[39m\u001b[38;5;124m\"\u001b[39m) \u001b[38;5;241m-\u001b[39m\u001b[38;5;241m>\u001b[39m \u001b[38;5;124m\"\u001b[39m\u001b[38;5;124mDataFrame\u001b[39m\u001b[38;5;124m\"\u001b[39m:  \u001b[38;5;66;03m# type: ignore[misc]\u001b[39;00m\n\u001b[1;32m   2992\u001b[0m \u001b[38;5;250m    \u001b[39m\u001b[38;5;124;03m\"\"\"Projects a set of expressions and returns a new :class:`DataFrame`.\u001b[39;00m\n\u001b[1;32m   2993\u001b[0m \n\u001b[1;32m   2994\u001b[0m \u001b[38;5;124;03m    .. versionadded:: 1.3.0\u001b[39;00m\n\u001b[0;32m   (...)\u001b[0m\n\u001b[1;32m   3034\u001b[0m \u001b[38;5;124;03m    +-----+---+\u001b[39;00m\n\u001b[1;32m   3035\u001b[0m \u001b[38;5;124;03m    \"\"\"\u001b[39;00m\n\u001b[0;32m-> 3036\u001b[0m     jdf \u001b[38;5;241m=\u001b[39m \u001b[38;5;28;43mself\u001b[39;49m\u001b[38;5;241;43m.\u001b[39;49m\u001b[43m_jdf\u001b[49m\u001b[38;5;241;43m.\u001b[39;49m\u001b[43mselect\u001b[49m\u001b[43m(\u001b[49m\u001b[38;5;28;43mself\u001b[39;49m\u001b[38;5;241;43m.\u001b[39;49m\u001b[43m_jcols\u001b[49m\u001b[43m(\u001b[49m\u001b[38;5;241;43m*\u001b[39;49m\u001b[43mcols\u001b[49m\u001b[43m)\u001b[49m\u001b[43m)\u001b[49m\n\u001b[1;32m   3037\u001b[0m     \u001b[38;5;28;01mreturn\u001b[39;00m DataFrame(jdf, \u001b[38;5;28mself\u001b[39m\u001b[38;5;241m.\u001b[39msparkSession)\n",
      "File \u001b[0;32m~/.local/lib/python3.8/site-packages/py4j/java_gateway.py:1322\u001b[0m, in \u001b[0;36mJavaMember.__call__\u001b[0;34m(self, *args)\u001b[0m\n\u001b[1;32m   1316\u001b[0m command \u001b[38;5;241m=\u001b[39m proto\u001b[38;5;241m.\u001b[39mCALL_COMMAND_NAME \u001b[38;5;241m+\u001b[39m\\\n\u001b[1;32m   1317\u001b[0m     \u001b[38;5;28mself\u001b[39m\u001b[38;5;241m.\u001b[39mcommand_header \u001b[38;5;241m+\u001b[39m\\\n\u001b[1;32m   1318\u001b[0m     args_command \u001b[38;5;241m+\u001b[39m\\\n\u001b[1;32m   1319\u001b[0m     proto\u001b[38;5;241m.\u001b[39mEND_COMMAND_PART\n\u001b[1;32m   1321\u001b[0m answer \u001b[38;5;241m=\u001b[39m \u001b[38;5;28mself\u001b[39m\u001b[38;5;241m.\u001b[39mgateway_client\u001b[38;5;241m.\u001b[39msend_command(command)\n\u001b[0;32m-> 1322\u001b[0m return_value \u001b[38;5;241m=\u001b[39m \u001b[43mget_return_value\u001b[49m\u001b[43m(\u001b[49m\n\u001b[1;32m   1323\u001b[0m \u001b[43m    \u001b[49m\u001b[43manswer\u001b[49m\u001b[43m,\u001b[49m\u001b[43m \u001b[49m\u001b[38;5;28;43mself\u001b[39;49m\u001b[38;5;241;43m.\u001b[39;49m\u001b[43mgateway_client\u001b[49m\u001b[43m,\u001b[49m\u001b[43m \u001b[49m\u001b[38;5;28;43mself\u001b[39;49m\u001b[38;5;241;43m.\u001b[39;49m\u001b[43mtarget_id\u001b[49m\u001b[43m,\u001b[49m\u001b[43m \u001b[49m\u001b[38;5;28;43mself\u001b[39;49m\u001b[38;5;241;43m.\u001b[39;49m\u001b[43mname\u001b[49m\u001b[43m)\u001b[49m\n\u001b[1;32m   1325\u001b[0m \u001b[38;5;28;01mfor\u001b[39;00m temp_arg \u001b[38;5;129;01min\u001b[39;00m temp_args:\n\u001b[1;32m   1326\u001b[0m     \u001b[38;5;28;01mif\u001b[39;00m \u001b[38;5;28mhasattr\u001b[39m(temp_arg, \u001b[38;5;124m\"\u001b[39m\u001b[38;5;124m_detach\u001b[39m\u001b[38;5;124m\"\u001b[39m):\n",
      "File \u001b[0;32m~/.local/lib/python3.8/site-packages/pyspark/errors/exceptions/captured.py:175\u001b[0m, in \u001b[0;36mcapture_sql_exception.<locals>.deco\u001b[0;34m(*a, **kw)\u001b[0m\n\u001b[1;32m    171\u001b[0m converted \u001b[38;5;241m=\u001b[39m convert_exception(e\u001b[38;5;241m.\u001b[39mjava_exception)\n\u001b[1;32m    172\u001b[0m \u001b[38;5;28;01mif\u001b[39;00m \u001b[38;5;129;01mnot\u001b[39;00m \u001b[38;5;28misinstance\u001b[39m(converted, UnknownException):\n\u001b[1;32m    173\u001b[0m     \u001b[38;5;66;03m# Hide where the exception came from that shows a non-Pythonic\u001b[39;00m\n\u001b[1;32m    174\u001b[0m     \u001b[38;5;66;03m# JVM exception message.\u001b[39;00m\n\u001b[0;32m--> 175\u001b[0m     \u001b[38;5;28;01mraise\u001b[39;00m converted \u001b[38;5;28;01mfrom\u001b[39;00m \u001b[38;5;28;01mNone\u001b[39;00m\n\u001b[1;32m    176\u001b[0m \u001b[38;5;28;01melse\u001b[39;00m:\n\u001b[1;32m    177\u001b[0m     \u001b[38;5;28;01mraise\u001b[39;00m\n",
      "\u001b[0;31mAnalysisException\u001b[0m: [DATATYPE_MISMATCH.UNEXPECTED_INPUT_TYPE] Cannot resolve \"isnan(Fecha)\" due to data type mismatch: Parameter 1 requires the (\"DOUBLE\" or \"FLOAT\") type, however \"Fecha\" has the type \"DATE\".;\n'Aggregate [count(CASE WHEN (isnan(Fecha#215) OR isnull(Fecha#215)) THEN Fecha END) AS Fecha#351, count(CASE WHEN (isnan(cast(Edad#216 as double)) OR isnull(Edad#216)) THEN Edad END) AS Edad#353L, count(CASE WHEN (isnan(cast(Rol#217 as double)) OR isnull(Rol#217)) THEN Rol END) AS Rol#355L, count(CASE WHEN (isnan(cast(Calle#218 as double)) OR isnull(Calle#218)) THEN Calle END) AS Calle#357L, count(CASE WHEN (isnan(cast(Zona#219 as double)) OR isnull(Zona#219)) THEN Zona END) AS Zona#359L, count(CASE WHEN (isnan(cast(Tipo_de_resultado#220 as double)) OR isnull(Tipo_de_resultado#220)) THEN Tipo_de_resultado END) AS Tipo_de_resultado#361L, count(CASE WHEN (isnan(cast(Tipo_de_siniestro#221 as double)) OR isnull(Tipo_de_siniestro#221)) THEN Tipo_de_siniestro END) AS Tipo_de_siniestro#363L, count(CASE WHEN (isnan(cast(Usa_cinturon#222 as double)) OR isnull(Usa_cinturon#222)) THEN Usa_cinturon END) AS Usa_cinturon#365L, count(CASE WHEN (isnan(cast(Usa_casco#223 as double)) OR isnull(Usa_casco#223)) THEN Usa_casco END) AS Usa_casco#367L, count(CASE WHEN (isnan(cast(Dia_de_la_semana#224 as double)) OR isnull(Dia_de_la_semana#224)) THEN Dia_de_la_semana END) AS Dia_de_la_semana#369L, count(CASE WHEN (isnan(cast(Sexo#225 as double)) OR isnull(Sexo#225)) THEN Sexo END) AS Sexo#371L, count(CASE WHEN (isnan(cast(Hora#226 as double)) OR isnull(Hora#226)) THEN Hora END) AS Hora#373L, count(CASE WHEN (isnan(cast(Departamento#227 as double)) OR isnull(Departamento#227)) THEN Departamento END) AS Departamento#375L, count(CASE WHEN (isnan(cast(Localidad#228 as double)) OR isnull(Localidad#228)) THEN Localidad END) AS Localidad#377L, count(CASE WHEN (isnan(cast(Novedad#229 as double)) OR isnull(Novedad#229)) THEN Novedad END) AS Novedad#379L, count(CASE WHEN (isnan(cast(Tipo_de_Vehiculo#230 as double)) OR isnull(Tipo_de_Vehiculo#230)) THEN Tipo_de_Vehiculo END) AS Tipo_de_Vehiculo#381L, count(CASE WHEN (isnan(cast(Fixed#231 as double)) OR isnull(Fixed#231)) THEN Fixed END) AS Fixed#383L, count(CASE WHEN (isnan(cast(X#232 as double)) OR isnull(X#232)) THEN X END) AS X#385L, count(CASE WHEN (isnan(cast(Y#233 as double)) OR isnull(Y#233)) THEN Y END) AS Y#387L]\n+- Relation [Fecha#215,Edad#216,Rol#217,Calle#218,Zona#219,Tipo_de_resultado#220,Tipo_de_siniestro#221,Usa_cinturon#222,Usa_casco#223,Dia_de_la_semana#224,Sexo#225,Hora#226,Departamento#227,Localidad#228,Novedad#229,Tipo_de_Vehiculo#230,Fixed#231,X#232,Y#233] csv\n"
     ]
    }
   ],
   "source": [
    "dfSiniestros.select([count(when(isnan(c) | col(c).isNull(), c)).alias(c) for c in dfSiniestros.columns]).show()"
   ]
  },
  {
   "cell_type": "code",
   "execution_count": 17,
   "id": "4eb884bb-42b1-436f-be70-5ecb085f992e",
   "metadata": {},
   "outputs": [
    {
     "name": "stderr",
     "output_type": "stream",
     "text": [
      "[Stage 18:======================================>                   (2 + 1) / 3]\r"
     ]
    },
    {
     "name": "stdout",
     "output_type": "stream",
     "text": [
      "+------------+---------+-----+----+-----------+----------------+-----------------+-------+--------+------+------------+\n",
      "|cod_detector|id_carril|fecha|hora|dsc_avenida|dsc_int_anterior|dsc_int_siguiente|latitud|longitud|volume|volumen_hora|\n",
      "+------------+---------+-----+----+-----------+----------------+-----------------+-------+--------+------+------------+\n",
      "|           0|        0|    0|   0|          0|               0|                0|      0|       0|     0|           0|\n",
      "+------------+---------+-----+----+-----------+----------------+-----------------+-------+--------+------+------------+\n",
      "\n"
     ]
    },
    {
     "name": "stderr",
     "output_type": "stream",
     "text": [
      "                                                                                \r"
     ]
    }
   ],
   "source": [
    "dfVolumen.select([count(when(col(c).isNull(), c)).alias(c) for c in dfVolumen.columns]).show()"
   ]
  },
  {
   "cell_type": "code",
   "execution_count": 18,
   "id": "371be331-dc58-41b0-aead-e9228d7258a3",
   "metadata": {},
   "outputs": [
    {
     "name": "stderr",
     "output_type": "stream",
     "text": [
      "[Stage 21:======================================>                   (2 + 1) / 3]\r"
     ]
    },
    {
     "name": "stdout",
     "output_type": "stream",
     "text": [
      "+------------+---------+-----+----+-----------+----------------+-----------------+-------+--------+---------+\n",
      "|cod_detector|id_carril|fecha|hora|dsc_avenida|dsc_int_anterior|dsc_int_siguiente|latitud|longitud|velocidad|\n",
      "+------------+---------+-----+----+-----------+----------------+-----------------+-------+--------+---------+\n",
      "|           0|        0|    0|   0|          0|               0|                0|      0|       0|        0|\n",
      "+------------+---------+-----+----+-----------+----------------+-----------------+-------+--------+---------+\n",
      "\n"
     ]
    },
    {
     "name": "stderr",
     "output_type": "stream",
     "text": [
      "                                                                                \r"
     ]
    }
   ],
   "source": [
    "dfVelocidad.select([count(when(col(c).isNull(), c)).alias(c) for c in dfVelocidad.columns]).show()"
   ]
  },
  {
   "cell_type": "code",
   "execution_count": 6,
   "id": "b2e513bd-cab5-48b9-ab34-eabac866c1f8",
   "metadata": {},
   "outputs": [
    {
     "name": "stderr",
     "output_type": "stream",
     "text": [
      "[Stage 3:>                                                          (0 + 2) / 2]\r"
     ]
    },
    {
     "name": "stdout",
     "output_type": "stream",
     "text": [
      "+-----+------+-----------+-------------+\n",
      "|Fecha|Nombre|Descripcion|Presipitación|\n",
      "+-----+------+-----------+-------------+\n",
      "|    0|     0|          0|          970|\n",
      "+-----+------+-----------+-------------+\n",
      "\n"
     ]
    },
    {
     "name": "stderr",
     "output_type": "stream",
     "text": [
      "                                                                                \r"
     ]
    }
   ],
   "source": [
    "dfPluviometros.select([count(when(col(c).isNull(), c)).alias(c) for c in dfPluviometros.columns]).show()"
   ]
  },
  {
   "cell_type": "markdown",
   "id": "d2b0a65a-4012-4bf2-9bb8-aee7c1fe574e",
   "metadata": {},
   "source": [
    "## Preguntas seleccionadas"
   ]
  },
  {
   "cell_type": "markdown",
   "id": "f93f9fd7-2eb5-4c20-a703-39b8510ef4ac",
   "metadata": {},
   "source": [
    "#### Definición de vistas"
   ]
  },
  {
   "cell_type": "code",
   "execution_count": 18,
   "id": "699c8ab1-b90f-4db7-8331-aa5b8bd4ece8",
   "metadata": {},
   "outputs": [],
   "source": [
    "dfPluviometros.createOrReplaceTempView(\"pluviometros\")"
   ]
  },
  {
   "cell_type": "code",
   "execution_count": 19,
   "id": "b195e8bc-83ef-42e4-8c49-cd65e8fa4d26",
   "metadata": {},
   "outputs": [],
   "source": [
    "dfSiniestros.createOrReplaceTempView(\"siniestros\")"
   ]
  },
  {
   "cell_type": "code",
   "execution_count": 20,
   "id": "88305782-c647-4bfe-b544-3b062d2857b1",
   "metadata": {},
   "outputs": [],
   "source": [
    "dfVelocidad.createOrReplaceTempView(\"velocidad\")"
   ]
  },
  {
   "cell_type": "code",
   "execution_count": 21,
   "id": "a8d87134-07bf-4277-a28a-62fe8573f5b6",
   "metadata": {},
   "outputs": [],
   "source": [
    "dfVolumen.createOrReplaceTempView(\"volumen\")"
   ]
  },
  {
   "cell_type": "markdown",
   "id": "a4cf5218-ea5a-432a-bacb-5973130c1f24",
   "metadata": {},
   "source": [
    "#### Consultas"
   ]
  },
  {
   "cell_type": "markdown",
   "id": "2f46df27-e6ec-49a8-81e3-d984f9da40a0",
   "metadata": {},
   "source": [
    "#### ¿A qué velocidad van los autos cuando el tráfico es elevado?"
   ]
  },
  {
   "cell_type": "code",
   "execution_count": 23,
   "id": "686708bf-ed5d-495b-8e16-f32f40802e25",
   "metadata": {},
   "outputs": [
    {
     "name": "stderr",
     "output_type": "stream",
     "text": [
      "ERROR:root:KeyboardInterrupt while sending command.                 (0 + 2) / 2]\n",
      "Traceback (most recent call last):\n",
      "  File \"/home/ort/.local/lib/python3.8/site-packages/py4j/java_gateway.py\", line 1038, in send_command\n",
      "    response = connection.send_command(command)\n",
      "  File \"/home/ort/.local/lib/python3.8/site-packages/py4j/clientserver.py\", line 511, in send_command\n",
      "    answer = smart_decode(self.stream.readline()[:-1])\n",
      "  File \"/usr/lib64/python3.8/socket.py\", line 669, in readinto\n",
      "    return self._sock.recv_into(b)\n",
      "KeyboardInterrupt\n"
     ]
    },
    {
     "ename": "KeyboardInterrupt",
     "evalue": "",
     "output_type": "error",
     "traceback": [
      "\u001b[0;31m---------------------------------------------------------------------------\u001b[0m",
      "\u001b[0;31mKeyboardInterrupt\u001b[0m                         Traceback (most recent call last)",
      "Cell \u001b[0;32mIn[23], line 1\u001b[0m\n\u001b[0;32m----> 1\u001b[0m \u001b[43mspark\u001b[49m\u001b[38;5;241;43m.\u001b[39;49m\u001b[43msql\u001b[49m\u001b[43m(\u001b[49m\u001b[38;5;124;43m'\u001b[39;49m\u001b[38;5;124;43mselect vol.cod_detector, vol.fecha, vol.hora, vol.volumen_hora, vel.velocidad from volumen vol JOIN velocidad vel ON (vol.cod_detector = vel.cod_detector AND vol.fecha = vel.fecha AND vol.hora = vol.hora) ORDER BY volumen_hora desc\u001b[39;49m\u001b[38;5;124;43m'\u001b[39;49m\u001b[43m)\u001b[49m\u001b[38;5;241;43m.\u001b[39;49m\u001b[43mshow\u001b[49m\u001b[43m(\u001b[49m\u001b[43m)\u001b[49m\n",
      "File \u001b[0;32m~/.local/lib/python3.8/site-packages/pyspark/sql/dataframe.py:899\u001b[0m, in \u001b[0;36mDataFrame.show\u001b[0;34m(self, n, truncate, vertical)\u001b[0m\n\u001b[1;32m    893\u001b[0m     \u001b[38;5;28;01mraise\u001b[39;00m PySparkTypeError(\n\u001b[1;32m    894\u001b[0m         error_class\u001b[38;5;241m=\u001b[39m\u001b[38;5;124m\"\u001b[39m\u001b[38;5;124mNOT_BOOL\u001b[39m\u001b[38;5;124m\"\u001b[39m,\n\u001b[1;32m    895\u001b[0m         message_parameters\u001b[38;5;241m=\u001b[39m{\u001b[38;5;124m\"\u001b[39m\u001b[38;5;124marg_name\u001b[39m\u001b[38;5;124m\"\u001b[39m: \u001b[38;5;124m\"\u001b[39m\u001b[38;5;124mvertical\u001b[39m\u001b[38;5;124m\"\u001b[39m, \u001b[38;5;124m\"\u001b[39m\u001b[38;5;124marg_type\u001b[39m\u001b[38;5;124m\"\u001b[39m: \u001b[38;5;28mtype\u001b[39m(vertical)\u001b[38;5;241m.\u001b[39m\u001b[38;5;18m__name__\u001b[39m},\n\u001b[1;32m    896\u001b[0m     )\n\u001b[1;32m    898\u001b[0m \u001b[38;5;28;01mif\u001b[39;00m \u001b[38;5;28misinstance\u001b[39m(truncate, \u001b[38;5;28mbool\u001b[39m) \u001b[38;5;129;01mand\u001b[39;00m truncate:\n\u001b[0;32m--> 899\u001b[0m     \u001b[38;5;28mprint\u001b[39m(\u001b[38;5;28;43mself\u001b[39;49m\u001b[38;5;241;43m.\u001b[39;49m\u001b[43m_jdf\u001b[49m\u001b[38;5;241;43m.\u001b[39;49m\u001b[43mshowString\u001b[49m\u001b[43m(\u001b[49m\u001b[43mn\u001b[49m\u001b[43m,\u001b[49m\u001b[43m \u001b[49m\u001b[38;5;241;43m20\u001b[39;49m\u001b[43m,\u001b[49m\u001b[43m \u001b[49m\u001b[43mvertical\u001b[49m\u001b[43m)\u001b[49m)\n\u001b[1;32m    900\u001b[0m \u001b[38;5;28;01melse\u001b[39;00m:\n\u001b[1;32m    901\u001b[0m     \u001b[38;5;28;01mtry\u001b[39;00m:\n",
      "File \u001b[0;32m~/.local/lib/python3.8/site-packages/py4j/java_gateway.py:1321\u001b[0m, in \u001b[0;36mJavaMember.__call__\u001b[0;34m(self, *args)\u001b[0m\n\u001b[1;32m   1314\u001b[0m args_command, temp_args \u001b[38;5;241m=\u001b[39m \u001b[38;5;28mself\u001b[39m\u001b[38;5;241m.\u001b[39m_build_args(\u001b[38;5;241m*\u001b[39margs)\n\u001b[1;32m   1316\u001b[0m command \u001b[38;5;241m=\u001b[39m proto\u001b[38;5;241m.\u001b[39mCALL_COMMAND_NAME \u001b[38;5;241m+\u001b[39m\\\n\u001b[1;32m   1317\u001b[0m     \u001b[38;5;28mself\u001b[39m\u001b[38;5;241m.\u001b[39mcommand_header \u001b[38;5;241m+\u001b[39m\\\n\u001b[1;32m   1318\u001b[0m     args_command \u001b[38;5;241m+\u001b[39m\\\n\u001b[1;32m   1319\u001b[0m     proto\u001b[38;5;241m.\u001b[39mEND_COMMAND_PART\n\u001b[0;32m-> 1321\u001b[0m answer \u001b[38;5;241m=\u001b[39m \u001b[38;5;28;43mself\u001b[39;49m\u001b[38;5;241;43m.\u001b[39;49m\u001b[43mgateway_client\u001b[49m\u001b[38;5;241;43m.\u001b[39;49m\u001b[43msend_command\u001b[49m\u001b[43m(\u001b[49m\u001b[43mcommand\u001b[49m\u001b[43m)\u001b[49m\n\u001b[1;32m   1322\u001b[0m return_value \u001b[38;5;241m=\u001b[39m get_return_value(\n\u001b[1;32m   1323\u001b[0m     answer, \u001b[38;5;28mself\u001b[39m\u001b[38;5;241m.\u001b[39mgateway_client, \u001b[38;5;28mself\u001b[39m\u001b[38;5;241m.\u001b[39mtarget_id, \u001b[38;5;28mself\u001b[39m\u001b[38;5;241m.\u001b[39mname)\n\u001b[1;32m   1325\u001b[0m \u001b[38;5;28;01mfor\u001b[39;00m temp_arg \u001b[38;5;129;01min\u001b[39;00m temp_args:\n",
      "File \u001b[0;32m~/.local/lib/python3.8/site-packages/py4j/java_gateway.py:1038\u001b[0m, in \u001b[0;36mGatewayClient.send_command\u001b[0;34m(self, command, retry, binary)\u001b[0m\n\u001b[1;32m   1036\u001b[0m connection \u001b[38;5;241m=\u001b[39m \u001b[38;5;28mself\u001b[39m\u001b[38;5;241m.\u001b[39m_get_connection()\n\u001b[1;32m   1037\u001b[0m \u001b[38;5;28;01mtry\u001b[39;00m:\n\u001b[0;32m-> 1038\u001b[0m     response \u001b[38;5;241m=\u001b[39m \u001b[43mconnection\u001b[49m\u001b[38;5;241;43m.\u001b[39;49m\u001b[43msend_command\u001b[49m\u001b[43m(\u001b[49m\u001b[43mcommand\u001b[49m\u001b[43m)\u001b[49m\n\u001b[1;32m   1039\u001b[0m     \u001b[38;5;28;01mif\u001b[39;00m binary:\n\u001b[1;32m   1040\u001b[0m         \u001b[38;5;28;01mreturn\u001b[39;00m response, \u001b[38;5;28mself\u001b[39m\u001b[38;5;241m.\u001b[39m_create_connection_guard(connection)\n",
      "File \u001b[0;32m~/.local/lib/python3.8/site-packages/py4j/clientserver.py:511\u001b[0m, in \u001b[0;36mClientServerConnection.send_command\u001b[0;34m(self, command)\u001b[0m\n\u001b[1;32m    509\u001b[0m \u001b[38;5;28;01mtry\u001b[39;00m:\n\u001b[1;32m    510\u001b[0m     \u001b[38;5;28;01mwhile\u001b[39;00m \u001b[38;5;28;01mTrue\u001b[39;00m:\n\u001b[0;32m--> 511\u001b[0m         answer \u001b[38;5;241m=\u001b[39m smart_decode(\u001b[38;5;28;43mself\u001b[39;49m\u001b[38;5;241;43m.\u001b[39;49m\u001b[43mstream\u001b[49m\u001b[38;5;241;43m.\u001b[39;49m\u001b[43mreadline\u001b[49m\u001b[43m(\u001b[49m\u001b[43m)\u001b[49m[:\u001b[38;5;241m-\u001b[39m\u001b[38;5;241m1\u001b[39m])\n\u001b[1;32m    512\u001b[0m         logger\u001b[38;5;241m.\u001b[39mdebug(\u001b[38;5;124m\"\u001b[39m\u001b[38;5;124mAnswer received: \u001b[39m\u001b[38;5;132;01m{0}\u001b[39;00m\u001b[38;5;124m\"\u001b[39m\u001b[38;5;241m.\u001b[39mformat(answer))\n\u001b[1;32m    513\u001b[0m         \u001b[38;5;66;03m# Happens when a the other end is dead. There might be an empty\u001b[39;00m\n\u001b[1;32m    514\u001b[0m         \u001b[38;5;66;03m# answer before the socket raises an error.\u001b[39;00m\n",
      "File \u001b[0;32m/usr/lib64/python3.8/socket.py:669\u001b[0m, in \u001b[0;36mSocketIO.readinto\u001b[0;34m(self, b)\u001b[0m\n\u001b[1;32m    667\u001b[0m \u001b[38;5;28;01mwhile\u001b[39;00m \u001b[38;5;28;01mTrue\u001b[39;00m:\n\u001b[1;32m    668\u001b[0m     \u001b[38;5;28;01mtry\u001b[39;00m:\n\u001b[0;32m--> 669\u001b[0m         \u001b[38;5;28;01mreturn\u001b[39;00m \u001b[38;5;28;43mself\u001b[39;49m\u001b[38;5;241;43m.\u001b[39;49m\u001b[43m_sock\u001b[49m\u001b[38;5;241;43m.\u001b[39;49m\u001b[43mrecv_into\u001b[49m\u001b[43m(\u001b[49m\u001b[43mb\u001b[49m\u001b[43m)\u001b[49m\n\u001b[1;32m    670\u001b[0m     \u001b[38;5;28;01mexcept\u001b[39;00m timeout:\n\u001b[1;32m    671\u001b[0m         \u001b[38;5;28mself\u001b[39m\u001b[38;5;241m.\u001b[39m_timeout_occurred \u001b[38;5;241m=\u001b[39m \u001b[38;5;28;01mTrue\u001b[39;00m\n",
      "\u001b[0;31mKeyboardInterrupt\u001b[0m: "
     ]
    }
   ],
   "source": [
    "spark.sql('select vol.cod_detector, vol.fecha, vol.hora, vol.volumen_hora, vel.velocidad from volumen vol JOIN velocidad vel ON (vol.cod_detector = vel.cod_detector AND vol.fecha = vel.fecha AND vol.hora = vol.hora) ORDER BY volumen_hora desc').show()"
   ]
  },
  {
   "cell_type": "code",
   "execution_count": null,
   "id": "6b83a2a1-2bad-4887-a28c-457ff249b32b",
   "metadata": {},
   "outputs": [],
   "source": [
    "dfConsulta1 = spark.sql('select vol.cod_detector, vol.fecha, vol.hora, vol.volumen_hora, vel.velocidad from volumen vol JOIN velocidad vel ON (vol.cod_detector = vel.cod_detector AND vol.fecha = vel.fecha AND vol.hora = vol.hora) ORDER BY volumen_hora desc').show()"
   ]
  },
  {
   "cell_type": "code",
   "execution_count": null,
   "id": "03d25815-02d4-4049-ad85-bde628da9289",
   "metadata": {},
   "outputs": [],
   "source": [
    "sns.regplot(x = 'volumen_hora',y = 'velocidad',data= dfConsulta1)"
   ]
  },
  {
   "cell_type": "markdown",
   "id": "37578b49-f18a-47a9-a026-b5ca3db757f0",
   "metadata": {},
   "source": [
    "#### ¿Qué día de la semana presenta la mayor cantidad de siniestros en Montevideo?"
   ]
  },
  {
   "cell_type": "code",
   "execution_count": 22,
   "id": "3d845d59-d969-422f-bebc-2f9bd97b80d6",
   "metadata": {},
   "outputs": [
    {
     "name": "stdout",
     "output_type": "stream",
     "text": [
      "+----------------+----------------------+\n",
      "|Dia_de_la_semana|Cantidad_de_siniestros|\n",
      "+----------------+----------------------+\n",
      "|       MIERCOLES|                   109|\n",
      "|          JUEVES|                    92|\n",
      "|           LUNES|                    87|\n",
      "|         DOMINGO|                    86|\n",
      "|         VIERNES|                    81|\n",
      "|         SI�BADO|                    76|\n",
      "|          MARTES|                    70|\n",
      "+----------------+----------------------+\n",
      "\n"
     ]
    }
   ],
   "source": [
    "spark.sql('select Dia_de_la_semana, count(*) AS Cantidad_de_siniestros from siniestros group by Dia_de_la_semana order by Cantidad_de_siniestros desc').show()"
   ]
  },
  {
   "cell_type": "code",
   "execution_count": null,
   "id": "33a9bbad-5a98-48e4-ab29-84ad2bdfeaf6",
   "metadata": {},
   "outputs": [],
   "source": [
    "dfConsulta2 = spark.sql('select Dia_de_la_semana, count(*) AS Cantidad_de_siniestros from siniestros group by Dia_de_la_semana order by Cantidad_de_siniestros desc').show()"
   ]
  },
  {
   "cell_type": "code",
   "execution_count": null,
   "id": "5fd8efaa-f958-4a5a-a73a-f144e89bc9a4",
   "metadata": {},
   "outputs": [],
   "source": [
    "sns.scatterplot(data = dfConsulta2, x=\"Dia_de_la_semana\", y=\"Cantidad_de_siniestros\")"
   ]
  },
  {
   "cell_type": "markdown",
   "id": "470ed638-cc80-4a3f-95d6-35cf5161cc3f",
   "metadata": {},
   "source": [
    "#### ¿Cuál es el rango de edad con mayor cantidad de siniestros?"
   ]
  },
  {
   "cell_type": "code",
   "execution_count": 23,
   "id": "87780484-dbe5-43e4-b44f-36a43cc5c301",
   "metadata": {},
   "outputs": [
    {
     "name": "stdout",
     "output_type": "stream",
     "text": [
      "+----------------------+----+\n",
      "|Cantidad_de_siniestros|Edad|\n",
      "+----------------------+----+\n",
      "|                    24|  23|\n",
      "|                    23|  22|\n",
      "|                    23|  19|\n",
      "|                    23|  20|\n",
      "|                    22|  27|\n",
      "|                    22|  24|\n",
      "|                    21|  21|\n",
      "|                    20|  36|\n",
      "|                    18|  25|\n",
      "|                    15|  34|\n",
      "|                    15|  28|\n",
      "|                    15|  31|\n",
      "|                    15|  33|\n",
      "|                    13|  26|\n",
      "|                    13|  32|\n",
      "|                    12|  35|\n",
      "|                    12|  41|\n",
      "|                    11|  29|\n",
      "|                    11|  60|\n",
      "|                    11|  45|\n",
      "+----------------------+----+\n",
      "only showing top 20 rows\n",
      "\n"
     ]
    }
   ],
   "source": [
    "spark.sql('select count(*) AS Cantidad_de_siniestros, Edad from siniestros group by Edad order by Cantidad_de_siniestros desc').show()"
   ]
  },
  {
   "cell_type": "markdown",
   "id": "eabd4dd1-2e6e-406a-a6a5-c095413201ac",
   "metadata": {},
   "source": [
    "Se observa que el rango de edad con mas cantidad de accidentes es desde los 19 a los 24 teniendo mas de 20 accidentes en el período de 1 mes."
   ]
  },
  {
   "cell_type": "code",
   "execution_count": null,
   "id": "75030edf-ff4b-48a3-a475-291226a60c2d",
   "metadata": {},
   "outputs": [],
   "source": [
    "dfConsulta3 = spark.sql('select count(*) AS Cantidad_de_siniestros, Edad from siniestros group by Edad order by Cantidad_de_siniestros desc').show()"
   ]
  },
  {
   "cell_type": "code",
   "execution_count": null,
   "id": "5c5f94d1-765a-4dd1-9d5c-c2b276e9abec",
   "metadata": {},
   "outputs": [],
   "source": [
    "sns.lineplot(data=dfConsulta3, x=\"Edad\", y=\"Cantidad_de_siniestros\")"
   ]
  },
  {
   "cell_type": "markdown",
   "id": "993d8bea-f524-489e-9889-28e4e8dd1c10",
   "metadata": {},
   "source": [
    "#### ¿Cuál es la calle con mayor flujo vehicular y cómo varía el mismo a lo largo del día?"
   ]
  },
  {
   "cell_type": "code",
   "execution_count": 25,
   "id": "941eb98d-9ae2-4e12-af3c-5b2a134d7816",
   "metadata": {},
   "outputs": [
    {
     "name": "stderr",
     "output_type": "stream",
     "text": [
      "ERROR:root:KeyboardInterrupt while sending command.][Stage 15:>   (0 + 0) / 3]\n",
      "Traceback (most recent call last):\n",
      "  File \"/home/ort/.local/lib/python3.8/site-packages/py4j/java_gateway.py\", line 1038, in send_command\n",
      "    response = connection.send_command(command)\n",
      "  File \"/home/ort/.local/lib/python3.8/site-packages/py4j/clientserver.py\", line 511, in send_command\n",
      "    answer = smart_decode(self.stream.readline()[:-1])\n",
      "  File \"/usr/lib64/python3.8/socket.py\", line 669, in readinto\n",
      "    return self._sock.recv_into(b)\n",
      "KeyboardInterrupt\n"
     ]
    },
    {
     "ename": "KeyboardInterrupt",
     "evalue": "",
     "output_type": "error",
     "traceback": [
      "\u001b[0;31m---------------------------------------------------------------------------\u001b[0m",
      "\u001b[0;31mKeyboardInterrupt\u001b[0m                         Traceback (most recent call last)",
      "Cell \u001b[0;32mIn[25], line 1\u001b[0m\n\u001b[0;32m----> 1\u001b[0m \u001b[43mspark\u001b[49m\u001b[38;5;241;43m.\u001b[39;49m\u001b[43msql\u001b[49m\u001b[43m(\u001b[49m\u001b[38;5;124;43m'\u001b[39;49m\u001b[38;5;124;43mselect dsc_avenida, dsc_int_anterior, dsc_int_siguiente, hora, volumen_hora from volumen order by volumen_hora desc\u001b[39;49m\u001b[38;5;124;43m'\u001b[39;49m\u001b[43m)\u001b[49m\u001b[38;5;241;43m.\u001b[39;49m\u001b[43mshow\u001b[49m\u001b[43m(\u001b[49m\u001b[43m)\u001b[49m\n",
      "File \u001b[0;32m~/.local/lib/python3.8/site-packages/pyspark/sql/dataframe.py:899\u001b[0m, in \u001b[0;36mDataFrame.show\u001b[0;34m(self, n, truncate, vertical)\u001b[0m\n\u001b[1;32m    893\u001b[0m     \u001b[38;5;28;01mraise\u001b[39;00m PySparkTypeError(\n\u001b[1;32m    894\u001b[0m         error_class\u001b[38;5;241m=\u001b[39m\u001b[38;5;124m\"\u001b[39m\u001b[38;5;124mNOT_BOOL\u001b[39m\u001b[38;5;124m\"\u001b[39m,\n\u001b[1;32m    895\u001b[0m         message_parameters\u001b[38;5;241m=\u001b[39m{\u001b[38;5;124m\"\u001b[39m\u001b[38;5;124marg_name\u001b[39m\u001b[38;5;124m\"\u001b[39m: \u001b[38;5;124m\"\u001b[39m\u001b[38;5;124mvertical\u001b[39m\u001b[38;5;124m\"\u001b[39m, \u001b[38;5;124m\"\u001b[39m\u001b[38;5;124marg_type\u001b[39m\u001b[38;5;124m\"\u001b[39m: \u001b[38;5;28mtype\u001b[39m(vertical)\u001b[38;5;241m.\u001b[39m\u001b[38;5;18m__name__\u001b[39m},\n\u001b[1;32m    896\u001b[0m     )\n\u001b[1;32m    898\u001b[0m \u001b[38;5;28;01mif\u001b[39;00m \u001b[38;5;28misinstance\u001b[39m(truncate, \u001b[38;5;28mbool\u001b[39m) \u001b[38;5;129;01mand\u001b[39;00m truncate:\n\u001b[0;32m--> 899\u001b[0m     \u001b[38;5;28mprint\u001b[39m(\u001b[38;5;28;43mself\u001b[39;49m\u001b[38;5;241;43m.\u001b[39;49m\u001b[43m_jdf\u001b[49m\u001b[38;5;241;43m.\u001b[39;49m\u001b[43mshowString\u001b[49m\u001b[43m(\u001b[49m\u001b[43mn\u001b[49m\u001b[43m,\u001b[49m\u001b[43m \u001b[49m\u001b[38;5;241;43m20\u001b[39;49m\u001b[43m,\u001b[49m\u001b[43m \u001b[49m\u001b[43mvertical\u001b[49m\u001b[43m)\u001b[49m)\n\u001b[1;32m    900\u001b[0m \u001b[38;5;28;01melse\u001b[39;00m:\n\u001b[1;32m    901\u001b[0m     \u001b[38;5;28;01mtry\u001b[39;00m:\n",
      "File \u001b[0;32m~/.local/lib/python3.8/site-packages/py4j/java_gateway.py:1321\u001b[0m, in \u001b[0;36mJavaMember.__call__\u001b[0;34m(self, *args)\u001b[0m\n\u001b[1;32m   1314\u001b[0m args_command, temp_args \u001b[38;5;241m=\u001b[39m \u001b[38;5;28mself\u001b[39m\u001b[38;5;241m.\u001b[39m_build_args(\u001b[38;5;241m*\u001b[39margs)\n\u001b[1;32m   1316\u001b[0m command \u001b[38;5;241m=\u001b[39m proto\u001b[38;5;241m.\u001b[39mCALL_COMMAND_NAME \u001b[38;5;241m+\u001b[39m\\\n\u001b[1;32m   1317\u001b[0m     \u001b[38;5;28mself\u001b[39m\u001b[38;5;241m.\u001b[39mcommand_header \u001b[38;5;241m+\u001b[39m\\\n\u001b[1;32m   1318\u001b[0m     args_command \u001b[38;5;241m+\u001b[39m\\\n\u001b[1;32m   1319\u001b[0m     proto\u001b[38;5;241m.\u001b[39mEND_COMMAND_PART\n\u001b[0;32m-> 1321\u001b[0m answer \u001b[38;5;241m=\u001b[39m \u001b[38;5;28;43mself\u001b[39;49m\u001b[38;5;241;43m.\u001b[39;49m\u001b[43mgateway_client\u001b[49m\u001b[38;5;241;43m.\u001b[39;49m\u001b[43msend_command\u001b[49m\u001b[43m(\u001b[49m\u001b[43mcommand\u001b[49m\u001b[43m)\u001b[49m\n\u001b[1;32m   1322\u001b[0m return_value \u001b[38;5;241m=\u001b[39m get_return_value(\n\u001b[1;32m   1323\u001b[0m     answer, \u001b[38;5;28mself\u001b[39m\u001b[38;5;241m.\u001b[39mgateway_client, \u001b[38;5;28mself\u001b[39m\u001b[38;5;241m.\u001b[39mtarget_id, \u001b[38;5;28mself\u001b[39m\u001b[38;5;241m.\u001b[39mname)\n\u001b[1;32m   1325\u001b[0m \u001b[38;5;28;01mfor\u001b[39;00m temp_arg \u001b[38;5;129;01min\u001b[39;00m temp_args:\n",
      "File \u001b[0;32m~/.local/lib/python3.8/site-packages/py4j/java_gateway.py:1038\u001b[0m, in \u001b[0;36mGatewayClient.send_command\u001b[0;34m(self, command, retry, binary)\u001b[0m\n\u001b[1;32m   1036\u001b[0m connection \u001b[38;5;241m=\u001b[39m \u001b[38;5;28mself\u001b[39m\u001b[38;5;241m.\u001b[39m_get_connection()\n\u001b[1;32m   1037\u001b[0m \u001b[38;5;28;01mtry\u001b[39;00m:\n\u001b[0;32m-> 1038\u001b[0m     response \u001b[38;5;241m=\u001b[39m \u001b[43mconnection\u001b[49m\u001b[38;5;241;43m.\u001b[39;49m\u001b[43msend_command\u001b[49m\u001b[43m(\u001b[49m\u001b[43mcommand\u001b[49m\u001b[43m)\u001b[49m\n\u001b[1;32m   1039\u001b[0m     \u001b[38;5;28;01mif\u001b[39;00m binary:\n\u001b[1;32m   1040\u001b[0m         \u001b[38;5;28;01mreturn\u001b[39;00m response, \u001b[38;5;28mself\u001b[39m\u001b[38;5;241m.\u001b[39m_create_connection_guard(connection)\n",
      "File \u001b[0;32m~/.local/lib/python3.8/site-packages/py4j/clientserver.py:511\u001b[0m, in \u001b[0;36mClientServerConnection.send_command\u001b[0;34m(self, command)\u001b[0m\n\u001b[1;32m    509\u001b[0m \u001b[38;5;28;01mtry\u001b[39;00m:\n\u001b[1;32m    510\u001b[0m     \u001b[38;5;28;01mwhile\u001b[39;00m \u001b[38;5;28;01mTrue\u001b[39;00m:\n\u001b[0;32m--> 511\u001b[0m         answer \u001b[38;5;241m=\u001b[39m smart_decode(\u001b[38;5;28;43mself\u001b[39;49m\u001b[38;5;241;43m.\u001b[39;49m\u001b[43mstream\u001b[49m\u001b[38;5;241;43m.\u001b[39;49m\u001b[43mreadline\u001b[49m\u001b[43m(\u001b[49m\u001b[43m)\u001b[49m[:\u001b[38;5;241m-\u001b[39m\u001b[38;5;241m1\u001b[39m])\n\u001b[1;32m    512\u001b[0m         logger\u001b[38;5;241m.\u001b[39mdebug(\u001b[38;5;124m\"\u001b[39m\u001b[38;5;124mAnswer received: \u001b[39m\u001b[38;5;132;01m{0}\u001b[39;00m\u001b[38;5;124m\"\u001b[39m\u001b[38;5;241m.\u001b[39mformat(answer))\n\u001b[1;32m    513\u001b[0m         \u001b[38;5;66;03m# Happens when a the other end is dead. There might be an empty\u001b[39;00m\n\u001b[1;32m    514\u001b[0m         \u001b[38;5;66;03m# answer before the socket raises an error.\u001b[39;00m\n",
      "File \u001b[0;32m/usr/lib64/python3.8/socket.py:669\u001b[0m, in \u001b[0;36mSocketIO.readinto\u001b[0;34m(self, b)\u001b[0m\n\u001b[1;32m    667\u001b[0m \u001b[38;5;28;01mwhile\u001b[39;00m \u001b[38;5;28;01mTrue\u001b[39;00m:\n\u001b[1;32m    668\u001b[0m     \u001b[38;5;28;01mtry\u001b[39;00m:\n\u001b[0;32m--> 669\u001b[0m         \u001b[38;5;28;01mreturn\u001b[39;00m \u001b[38;5;28;43mself\u001b[39;49m\u001b[38;5;241;43m.\u001b[39;49m\u001b[43m_sock\u001b[49m\u001b[38;5;241;43m.\u001b[39;49m\u001b[43mrecv_into\u001b[49m\u001b[43m(\u001b[49m\u001b[43mb\u001b[49m\u001b[43m)\u001b[49m\n\u001b[1;32m    670\u001b[0m     \u001b[38;5;28;01mexcept\u001b[39;00m timeout:\n\u001b[1;32m    671\u001b[0m         \u001b[38;5;28mself\u001b[39m\u001b[38;5;241m.\u001b[39m_timeout_occurred \u001b[38;5;241m=\u001b[39m \u001b[38;5;28;01mTrue\u001b[39;00m\n",
      "\u001b[0;31mKeyboardInterrupt\u001b[0m: "
     ]
    }
   ],
   "source": [
    "spark.sql('select dsc_avenida, dsc_int_anterior, dsc_int_siguiente, hora, volumen_hora from volumen order by volumen_hora desc').show()"
   ]
  },
  {
   "cell_type": "code",
   "execution_count": null,
   "id": "053be65d-a27c-4eed-a255-47d6b6e513cb",
   "metadata": {},
   "outputs": [],
   "source": [
    "dfConsulta4 = spark.sql('select dsc_avenida, dsc_int_anterior, dsc_int_siguiente, hora, volumen_hora from volumen order by volumen_hora desc').show()"
   ]
  },
  {
   "cell_type": "code",
   "execution_count": null,
   "id": "befa9bdb-99da-4eef-8149-49eb94466089",
   "metadata": {},
   "outputs": [],
   "source": [
    "sns.barplot(data=dfConsulta4 , x=\"dsc_avenida\", y=\"volumen_hora\")"
   ]
  },
  {
   "cell_type": "markdown",
   "id": "a4a59682-d864-40a4-aea3-9f1304accea1",
   "metadata": {},
   "source": [
    "#### ¿Existe una mayor incidencia de accidentes en días de lluvia?"
   ]
  },
  {
   "cell_type": "code",
   "execution_count": 26,
   "id": "7fbc131f-24bd-4aac-8bca-40ec40f6a49c",
   "metadata": {},
   "outputs": [
    {
     "name": "stderr",
     "output_type": "stream",
     "text": [
      "ERROR:root:KeyboardInterrupt while sending command.][Stage 15:>   (0 + 0) / 3]\n",
      "Traceback (most recent call last):\n",
      "  File \"/home/ort/.local/lib/python3.8/site-packages/py4j/java_gateway.py\", line 1038, in send_command\n",
      "    response = connection.send_command(command)\n",
      "  File \"/home/ort/.local/lib/python3.8/site-packages/py4j/clientserver.py\", line 511, in send_command\n",
      "    answer = smart_decode(self.stream.readline()[:-1])\n",
      "  File \"/usr/lib64/python3.8/socket.py\", line 669, in readinto\n",
      "    return self._sock.recv_into(b)\n",
      "KeyboardInterrupt\n"
     ]
    },
    {
     "ename": "KeyboardInterrupt",
     "evalue": "",
     "output_type": "error",
     "traceback": [
      "\u001b[0;31m---------------------------------------------------------------------------\u001b[0m",
      "\u001b[0;31mKeyboardInterrupt\u001b[0m                         Traceback (most recent call last)",
      "Cell \u001b[0;32mIn[26], line 1\u001b[0m\n\u001b[0;32m----> 1\u001b[0m \u001b[43mspark\u001b[49m\u001b[38;5;241;43m.\u001b[39;49m\u001b[43msql\u001b[49m\u001b[43m \u001b[49m\u001b[43m(\u001b[49m\u001b[38;5;124;43m'\u001b[39;49m\u001b[38;5;124;43mSELECT s.Fecha, s.Cantidad_de_siniestros, p.Precipitacion_promedio FROM (SELECT Fecha, COUNT(*) AS Cantidad_de_siniestros FROM siniestros GROUP BY Fecha) AS s JOIN (SELECT Fecha, AVG(precipitacion) AS Precipitacion_promedio FROM pluviometros GROUP BY Fecha) AS p ON s.Fecha = p.Fecha ORDER BY s.Cantidad_de_siniestros DESC;\u001b[39;49m\u001b[38;5;124;43m'\u001b[39;49m\u001b[43m)\u001b[49m\u001b[38;5;241;43m.\u001b[39;49m\u001b[43mshow\u001b[49m\u001b[43m(\u001b[49m\u001b[43m)\u001b[49m\n",
      "File \u001b[0;32m~/.local/lib/python3.8/site-packages/pyspark/sql/dataframe.py:899\u001b[0m, in \u001b[0;36mDataFrame.show\u001b[0;34m(self, n, truncate, vertical)\u001b[0m\n\u001b[1;32m    893\u001b[0m     \u001b[38;5;28;01mraise\u001b[39;00m PySparkTypeError(\n\u001b[1;32m    894\u001b[0m         error_class\u001b[38;5;241m=\u001b[39m\u001b[38;5;124m\"\u001b[39m\u001b[38;5;124mNOT_BOOL\u001b[39m\u001b[38;5;124m\"\u001b[39m,\n\u001b[1;32m    895\u001b[0m         message_parameters\u001b[38;5;241m=\u001b[39m{\u001b[38;5;124m\"\u001b[39m\u001b[38;5;124marg_name\u001b[39m\u001b[38;5;124m\"\u001b[39m: \u001b[38;5;124m\"\u001b[39m\u001b[38;5;124mvertical\u001b[39m\u001b[38;5;124m\"\u001b[39m, \u001b[38;5;124m\"\u001b[39m\u001b[38;5;124marg_type\u001b[39m\u001b[38;5;124m\"\u001b[39m: \u001b[38;5;28mtype\u001b[39m(vertical)\u001b[38;5;241m.\u001b[39m\u001b[38;5;18m__name__\u001b[39m},\n\u001b[1;32m    896\u001b[0m     )\n\u001b[1;32m    898\u001b[0m \u001b[38;5;28;01mif\u001b[39;00m \u001b[38;5;28misinstance\u001b[39m(truncate, \u001b[38;5;28mbool\u001b[39m) \u001b[38;5;129;01mand\u001b[39;00m truncate:\n\u001b[0;32m--> 899\u001b[0m     \u001b[38;5;28mprint\u001b[39m(\u001b[38;5;28;43mself\u001b[39;49m\u001b[38;5;241;43m.\u001b[39;49m\u001b[43m_jdf\u001b[49m\u001b[38;5;241;43m.\u001b[39;49m\u001b[43mshowString\u001b[49m\u001b[43m(\u001b[49m\u001b[43mn\u001b[49m\u001b[43m,\u001b[49m\u001b[43m \u001b[49m\u001b[38;5;241;43m20\u001b[39;49m\u001b[43m,\u001b[49m\u001b[43m \u001b[49m\u001b[43mvertical\u001b[49m\u001b[43m)\u001b[49m)\n\u001b[1;32m    900\u001b[0m \u001b[38;5;28;01melse\u001b[39;00m:\n\u001b[1;32m    901\u001b[0m     \u001b[38;5;28;01mtry\u001b[39;00m:\n",
      "File \u001b[0;32m~/.local/lib/python3.8/site-packages/py4j/java_gateway.py:1321\u001b[0m, in \u001b[0;36mJavaMember.__call__\u001b[0;34m(self, *args)\u001b[0m\n\u001b[1;32m   1314\u001b[0m args_command, temp_args \u001b[38;5;241m=\u001b[39m \u001b[38;5;28mself\u001b[39m\u001b[38;5;241m.\u001b[39m_build_args(\u001b[38;5;241m*\u001b[39margs)\n\u001b[1;32m   1316\u001b[0m command \u001b[38;5;241m=\u001b[39m proto\u001b[38;5;241m.\u001b[39mCALL_COMMAND_NAME \u001b[38;5;241m+\u001b[39m\\\n\u001b[1;32m   1317\u001b[0m     \u001b[38;5;28mself\u001b[39m\u001b[38;5;241m.\u001b[39mcommand_header \u001b[38;5;241m+\u001b[39m\\\n\u001b[1;32m   1318\u001b[0m     args_command \u001b[38;5;241m+\u001b[39m\\\n\u001b[1;32m   1319\u001b[0m     proto\u001b[38;5;241m.\u001b[39mEND_COMMAND_PART\n\u001b[0;32m-> 1321\u001b[0m answer \u001b[38;5;241m=\u001b[39m \u001b[38;5;28;43mself\u001b[39;49m\u001b[38;5;241;43m.\u001b[39;49m\u001b[43mgateway_client\u001b[49m\u001b[38;5;241;43m.\u001b[39;49m\u001b[43msend_command\u001b[49m\u001b[43m(\u001b[49m\u001b[43mcommand\u001b[49m\u001b[43m)\u001b[49m\n\u001b[1;32m   1322\u001b[0m return_value \u001b[38;5;241m=\u001b[39m get_return_value(\n\u001b[1;32m   1323\u001b[0m     answer, \u001b[38;5;28mself\u001b[39m\u001b[38;5;241m.\u001b[39mgateway_client, \u001b[38;5;28mself\u001b[39m\u001b[38;5;241m.\u001b[39mtarget_id, \u001b[38;5;28mself\u001b[39m\u001b[38;5;241m.\u001b[39mname)\n\u001b[1;32m   1325\u001b[0m \u001b[38;5;28;01mfor\u001b[39;00m temp_arg \u001b[38;5;129;01min\u001b[39;00m temp_args:\n",
      "File \u001b[0;32m~/.local/lib/python3.8/site-packages/py4j/java_gateway.py:1038\u001b[0m, in \u001b[0;36mGatewayClient.send_command\u001b[0;34m(self, command, retry, binary)\u001b[0m\n\u001b[1;32m   1036\u001b[0m connection \u001b[38;5;241m=\u001b[39m \u001b[38;5;28mself\u001b[39m\u001b[38;5;241m.\u001b[39m_get_connection()\n\u001b[1;32m   1037\u001b[0m \u001b[38;5;28;01mtry\u001b[39;00m:\n\u001b[0;32m-> 1038\u001b[0m     response \u001b[38;5;241m=\u001b[39m \u001b[43mconnection\u001b[49m\u001b[38;5;241;43m.\u001b[39;49m\u001b[43msend_command\u001b[49m\u001b[43m(\u001b[49m\u001b[43mcommand\u001b[49m\u001b[43m)\u001b[49m\n\u001b[1;32m   1039\u001b[0m     \u001b[38;5;28;01mif\u001b[39;00m binary:\n\u001b[1;32m   1040\u001b[0m         \u001b[38;5;28;01mreturn\u001b[39;00m response, \u001b[38;5;28mself\u001b[39m\u001b[38;5;241m.\u001b[39m_create_connection_guard(connection)\n",
      "File \u001b[0;32m~/.local/lib/python3.8/site-packages/py4j/clientserver.py:511\u001b[0m, in \u001b[0;36mClientServerConnection.send_command\u001b[0;34m(self, command)\u001b[0m\n\u001b[1;32m    509\u001b[0m \u001b[38;5;28;01mtry\u001b[39;00m:\n\u001b[1;32m    510\u001b[0m     \u001b[38;5;28;01mwhile\u001b[39;00m \u001b[38;5;28;01mTrue\u001b[39;00m:\n\u001b[0;32m--> 511\u001b[0m         answer \u001b[38;5;241m=\u001b[39m smart_decode(\u001b[38;5;28;43mself\u001b[39;49m\u001b[38;5;241;43m.\u001b[39;49m\u001b[43mstream\u001b[49m\u001b[38;5;241;43m.\u001b[39;49m\u001b[43mreadline\u001b[49m\u001b[43m(\u001b[49m\u001b[43m)\u001b[49m[:\u001b[38;5;241m-\u001b[39m\u001b[38;5;241m1\u001b[39m])\n\u001b[1;32m    512\u001b[0m         logger\u001b[38;5;241m.\u001b[39mdebug(\u001b[38;5;124m\"\u001b[39m\u001b[38;5;124mAnswer received: \u001b[39m\u001b[38;5;132;01m{0}\u001b[39;00m\u001b[38;5;124m\"\u001b[39m\u001b[38;5;241m.\u001b[39mformat(answer))\n\u001b[1;32m    513\u001b[0m         \u001b[38;5;66;03m# Happens when a the other end is dead. There might be an empty\u001b[39;00m\n\u001b[1;32m    514\u001b[0m         \u001b[38;5;66;03m# answer before the socket raises an error.\u001b[39;00m\n",
      "File \u001b[0;32m/usr/lib64/python3.8/socket.py:669\u001b[0m, in \u001b[0;36mSocketIO.readinto\u001b[0;34m(self, b)\u001b[0m\n\u001b[1;32m    667\u001b[0m \u001b[38;5;28;01mwhile\u001b[39;00m \u001b[38;5;28;01mTrue\u001b[39;00m:\n\u001b[1;32m    668\u001b[0m     \u001b[38;5;28;01mtry\u001b[39;00m:\n\u001b[0;32m--> 669\u001b[0m         \u001b[38;5;28;01mreturn\u001b[39;00m \u001b[38;5;28;43mself\u001b[39;49m\u001b[38;5;241;43m.\u001b[39;49m\u001b[43m_sock\u001b[49m\u001b[38;5;241;43m.\u001b[39;49m\u001b[43mrecv_into\u001b[49m\u001b[43m(\u001b[49m\u001b[43mb\u001b[49m\u001b[43m)\u001b[49m\n\u001b[1;32m    670\u001b[0m     \u001b[38;5;28;01mexcept\u001b[39;00m timeout:\n\u001b[1;32m    671\u001b[0m         \u001b[38;5;28mself\u001b[39m\u001b[38;5;241m.\u001b[39m_timeout_occurred \u001b[38;5;241m=\u001b[39m \u001b[38;5;28;01mTrue\u001b[39;00m\n",
      "\u001b[0;31mKeyboardInterrupt\u001b[0m: "
     ]
    },
    {
     "name": "stderr",
     "output_type": "stream",
     "text": [
      "[Stage 13:>   (0 + 2) / 2][Stage 14:>   (0 + 0) / 3][Stage 15:>   (0 + 0) / 3]\r"
     ]
    }
   ],
   "source": [
    "spark.sql ('SELECT s.Fecha, s.Cantidad_de_siniestros, p.Precipitacion_promedio FROM (SELECT Fecha, COUNT(*) AS Cantidad_de_siniestros FROM siniestros GROUP BY Fecha) AS s JOIN (SELECT Fecha, AVG(precipitacion) AS Precipitacion_promedio FROM pluviometros GROUP BY Fecha) AS p ON s.Fecha = p.Fecha ORDER BY s.Cantidad_de_siniestros DESC;').show()"
   ]
  },
  {
   "cell_type": "code",
   "execution_count": null,
   "id": "fb88928e-b3eb-4a81-a69b-cab49dfd3040",
   "metadata": {},
   "outputs": [],
   "source": [
    "dfConsulta5 = spark.sql ('SELECT s.Fecha, s.Cantidad_de_siniestros, p.Precipitacion_promedio FROM (SELECT Fecha, COUNT(*) AS Cantidad_de_siniestros FROM siniestros GROUP BY Fecha) AS s JOIN (SELECT Fecha, AVG(precipitacion) AS Precipitacion_promedio FROM pluviometros GROUP BY Fecha) AS p ON s.Fecha = p.Fecha ORDER BY s.Cantidad_de_siniestros DESC;').show()"
   ]
  },
  {
   "cell_type": "code",
   "execution_count": null,
   "id": "b700edc5-adfe-4780-a175-0dcf2ce2544a",
   "metadata": {},
   "outputs": [],
   "source": [
    "sns.scatterplot(data=dfConsulta5, x=\"Cantidad_de_siniestros\", y=\"Precipitacion_promedio\")"
   ]
  },
  {
   "cell_type": "code",
   "execution_count": 100,
   "id": "926ec1f6-4e81-4679-8ef5-e5de2908c923",
   "metadata": {},
   "outputs": [
    {
     "name": "stdout",
     "output_type": "stream",
     "text": [
      "+----------+----------------------+\n",
      "|     Fecha|Cantidad_de_siniestros|\n",
      "+----------+----------------------+\n",
      "|2022-07-01|                    31|\n",
      "|2022-07-29|                    29|\n",
      "|2022-07-27|                    24|\n",
      "|2022-07-13|                    24|\n",
      "|2022-07-16|                    23|\n",
      "|2022-07-22|                    23|\n",
      "|2022-07-04|                    23|\n",
      "|2022-07-19|                    23|\n",
      "|2022-07-05|                    22|\n",
      "|2022-07-25|                    22|\n",
      "|2022-07-20|                    22|\n",
      "|2022-07-31|                    21|\n",
      "|2022-07-11|                    21|\n",
      "|2022-07-30|                    21|\n",
      "|2022-07-12|                    21|\n",
      "|2022-07-07|                    20|\n",
      "|2022-07-03|                    20|\n",
      "|2022-07-23|                    20|\n",
      "|2022-07-26|                    20|\n",
      "|2022-07-28|                    19|\n",
      "+----------+----------------------+\n",
      "only showing top 20 rows\n",
      "\n"
     ]
    }
   ],
   "source": [
    "spark.sql('select Fecha, count(*) AS Cantidad_de_siniestros from siniestros group by Fecha order by Cantidad_de_siniestros desc').show()"
   ]
  },
  {
   "cell_type": "code",
   "execution_count": 108,
   "id": "d7a8bd77-cdb8-4028-96cd-2868c0eda110",
   "metadata": {},
   "outputs": [
    {
     "name": "stdout",
     "output_type": "stream",
     "text": [
      "+----------+----------------------+\n",
      "|     Fecha|Precipitacion_promedio|\n",
      "+----------+----------------------+\n",
      "|2022-07-11|    5.8782857142857345|\n",
      "|2022-07-26|    3.9647105597964587|\n",
      "|2022-07-09|     3.448098350253807|\n",
      "|2022-07-25|    3.1311346031746363|\n",
      "|2022-07-28|    2.6119156626506115|\n",
      "|2022-07-01|    1.8528716323296304|\n",
      "|2022-07-27|    1.6153013959390221|\n",
      "|2022-07-16|    0.7716731196445286|\n",
      "|2022-07-24|    0.6902613962384395|\n",
      "|2022-07-07|    0.4325456285896601|\n",
      "|2022-07-05|   0.30829007633588024|\n",
      "|2022-07-02|   0.21189477020602698|\n",
      "|2022-07-14|       0.1621791613723|\n",
      "|2022-07-12|   0.10722296225816737|\n",
      "|2022-07-15|   0.10694312043215791|\n",
      "|2022-07-03|  0.029341796255157197|\n",
      "|2022-07-04|   0.02895712924738018|\n",
      "|2022-07-10|  0.028451298701298765|\n",
      "|2022-07-08|   0.02050478621569879|\n",
      "|2022-07-23|  0.017320012686330436|\n",
      "+----------+----------------------+\n",
      "only showing top 20 rows\n",
      "\n"
     ]
    }
   ],
   "source": [
    "spark.sql('select Fecha, avg(precipitacion) AS Precipitacion_promedio from pluviometros group by Fecha order by Precipitacion_promedio desc').show()"
   ]
  },
  {
   "cell_type": "code",
   "execution_count": null,
   "id": "5f37a7a1-c1d5-4dbd-a177-225c0a10566d",
   "metadata": {},
   "outputs": [],
   "source": []
  }
 ],
 "metadata": {
  "kernelspec": {
   "display_name": "Python 3 (ipykernel)",
   "language": "python",
   "name": "python3"
  },
  "language_info": {
   "codemirror_mode": {
    "name": "ipython",
    "version": 3
   },
   "file_extension": ".py",
   "mimetype": "text/x-python",
   "name": "python",
   "nbconvert_exporter": "python",
   "pygments_lexer": "ipython3",
   "version": "3.8.8"
  }
 },
 "nbformat": 4,
 "nbformat_minor": 5
}
